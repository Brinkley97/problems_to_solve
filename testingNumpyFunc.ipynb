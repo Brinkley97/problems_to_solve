{
 "cells": [
  {
   "cell_type": "markdown",
   "id": "62e8b092",
   "metadata": {},
   "source": [
    "# Testing Numpy Functions\n",
    "1. When : miercoles, 9 de junio 2021 \n",
    "2. Derivative : 2.2.5 Implementing Gradient Descent - cannot upload here so go to course to find actual code\n",
    "* exponent() \n",
    "* random.seed()\n",
    "* .shape\n",
    "* random.normal()\n",
    "* .values\n",
    "* dot()"
   ]
  },
  {
   "cell_type": "code",
   "execution_count": 1,
   "id": "ec4a19ad",
   "metadata": {},
   "outputs": [],
   "source": [
    "import numpy as np"
   ]
  },
  {
   "cell_type": "code",
   "execution_count": null,
   "id": "12d23d43",
   "metadata": {},
   "outputs": [],
   "source": [
    "# Calculate the exponential of all elements in the input array.\n",
    "\n",
    "a = 1\n",
    "print(np.exp(a))\n",
    "\n",
    "a1 = a ** a\n",
    "print(a1)\n",
    "\n",
    "# np.exp(x) is not the same as x ** x"
   ]
  },
  {
   "cell_type": "code",
   "execution_count": null,
   "id": "18ddbc1f",
   "metadata": {},
   "outputs": [],
   "source": [
    "# https://numpy.org/doc/stable/search.html?q=random.seed\n",
    "print(np.random.seed())"
   ]
  },
  {
   "cell_type": "code",
   "execution_count": null,
   "id": "1c2c49a9",
   "metadata": {},
   "outputs": [],
   "source": [
    "x = np.array([1, 2, 3, 4])\n",
    "print(x.shape)\n",
    "\n",
    "y = np.array([\n",
    "            [1, 2, 3, 4], \n",
    "            [1, 2, 3, 4]\n",
    "            ])\n",
    "print(y.shape)"
   ]
  },
  {
   "cell_type": "code",
   "execution_count": 15,
   "id": "2af08e07",
   "metadata": {},
   "outputs": [
    {
     "name": "stdout",
     "output_type": "stream",
     "text": [
      "-0.12601666985791982\n"
     ]
    }
   ],
   "source": [
    "# Draw random samples from a normal (Gaussian) distribution.\n",
    "print(np.random.normal(0, 8**-0.5))"
   ]
  },
  {
   "cell_type": "code",
   "execution_count": 13,
   "id": "a73b556b",
   "metadata": {},
   "outputs": [
    {
     "ename": "AttributeError",
     "evalue": "'int' object has no attribute 'values'",
     "output_type": "error",
     "traceback": [
      "\u001b[0;31m---------------------------------------------------------------------------\u001b[0m",
      "\u001b[0;31mAttributeError\u001b[0m                            Traceback (most recent call last)",
      "\u001b[0;32m<ipython-input-13-87bf410fea20>\u001b[0m in \u001b[0;36m<module>\u001b[0;34m\u001b[0m\n\u001b[1;32m      1\u001b[0m \u001b[0ma\u001b[0m \u001b[0;34m=\u001b[0m \u001b[0;36m1\u001b[0m\u001b[0;34m\u001b[0m\u001b[0;34m\u001b[0m\u001b[0m\n\u001b[0;32m----> 2\u001b[0;31m \u001b[0mprint\u001b[0m\u001b[0;34m(\u001b[0m\u001b[0ma\u001b[0m\u001b[0;34m.\u001b[0m\u001b[0mvalues\u001b[0m\u001b[0;34m)\u001b[0m\u001b[0;34m\u001b[0m\u001b[0;34m\u001b[0m\u001b[0m\n\u001b[0m",
      "\u001b[0;31mAttributeError\u001b[0m: 'int' object has no attribute 'values'"
     ]
    }
   ],
   "source": [
    "a = 1\n",
    "print(a.values)"
   ]
  },
  {
   "cell_type": "code",
   "execution_count": 2,
   "id": "25672a9c",
   "metadata": {},
   "outputs": [
    {
     "name": "stdout",
     "output_type": "stream",
     "text": [
      "(1, 2)\n",
      "(2, 4)\n",
      "[[23 26 29 32]]\n"
     ]
    }
   ],
   "source": [
    "x = np.array([\n",
    "            [1, 2]\n",
    "            ])\n",
    "print(x.shape)\n",
    "y = np.array([\n",
    "            [5, 6, 7, 8], \n",
    "            [9, 10, 11, 12]\n",
    "            ])\n",
    "print(y.shape)\n",
    "\n",
    "##### Figure this out!\n",
    "# (1 * 5) + (2 * 6) => 5 + 12 = 17\n",
    "# (2 * 5) + (2 * 6) => 10 + 12 = 22\n",
    "print(np.dot(x, y))"
   ]
  },
  {
   "cell_type": "code",
   "execution_count": 5,
   "id": "df660eab",
   "metadata": {},
   "outputs": [
    {
     "name": "stdout",
     "output_type": "stream",
     "text": [
      "(1, 3)\n",
      "(1, 3)\n"
     ]
    },
    {
     "ename": "ValueError",
     "evalue": "shapes (1,3) and (1,3) not aligned: 3 (dim 1) != 1 (dim 0)",
     "output_type": "error",
     "traceback": [
      "\u001b[0;31m---------------------------------------------------------------------------\u001b[0m",
      "\u001b[0;31mValueError\u001b[0m                                Traceback (most recent call last)",
      "\u001b[0;32m<ipython-input-5-080b28e487c0>\u001b[0m in \u001b[0;36m<module>\u001b[0;34m\u001b[0m\n\u001b[1;32m     12\u001b[0m \u001b[0;31m# (1 * 5) + (2 * 6) => 5 + 12 = 17\u001b[0m\u001b[0;34m\u001b[0m\u001b[0;34m\u001b[0m\u001b[0;34m\u001b[0m\u001b[0m\n\u001b[1;32m     13\u001b[0m \u001b[0;31m# (2 * 5) + (2 * 6) => 10 + 12 = 22\u001b[0m\u001b[0;34m\u001b[0m\u001b[0;34m\u001b[0m\u001b[0;34m\u001b[0m\u001b[0m\n\u001b[0;32m---> 14\u001b[0;31m \u001b[0mprint\u001b[0m\u001b[0;34m(\u001b[0m\u001b[0mnp\u001b[0m\u001b[0;34m.\u001b[0m\u001b[0mdot\u001b[0m\u001b[0;34m(\u001b[0m\u001b[0mx\u001b[0m\u001b[0;34m,\u001b[0m \u001b[0my\u001b[0m\u001b[0;34m)\u001b[0m\u001b[0;34m)\u001b[0m\u001b[0;34m\u001b[0m\u001b[0;34m\u001b[0m\u001b[0m\n\u001b[0m",
      "\u001b[0;32m<__array_function__ internals>\u001b[0m in \u001b[0;36mdot\u001b[0;34m(*args, **kwargs)\u001b[0m\n",
      "\u001b[0;31mValueError\u001b[0m: shapes (1,3) and (1,3) not aligned: 3 (dim 1) != 1 (dim 0)"
     ]
    }
   ],
   "source": [
    "x = np.array([\n",
    "            [4, -1, 2]\n",
    "            ])\n",
    "print(x.shape)\n",
    "y = np.array([\n",
    "            [5, 6, 7], \n",
    "            \n",
    "            ])\n",
    "print(y.shape)\n",
    "\n",
    "##### Figure this out!\n",
    "# (1 * 5) + (2 * 6) => 5 + 12 = 17\n",
    "# (2 * 5) + (2 * 6) => 10 + 12 = 22\n",
    "print(np.dot(x, y))"
   ]
  },
  {
   "cell_type": "code",
   "execution_count": null,
   "id": "b308b5c3",
   "metadata": {},
   "outputs": [],
   "source": []
  }
 ],
 "metadata": {
  "kernelspec": {
   "display_name": "Python 3",
   "language": "python",
   "name": "python3"
  },
  "language_info": {
   "codemirror_mode": {
    "name": "ipython",
    "version": 3
   },
   "file_extension": ".py",
   "mimetype": "text/x-python",
   "name": "python",
   "nbconvert_exporter": "python",
   "pygments_lexer": "ipython3",
   "version": "3.8.8"
  }
 },
 "nbformat": 4,
 "nbformat_minor": 5
}
