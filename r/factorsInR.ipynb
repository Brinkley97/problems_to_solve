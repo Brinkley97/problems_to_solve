{
 "cells": [
  {
   "cell_type": "markdown",
   "id": "73e8fe64-0ef0-4917-8d2d-54501f35157e",
   "metadata": {},
   "source": [
    "# Factors in R\n",
    "\n",
    "- rkernel \n",
    "- A factor is a variable that take a #different values\n",
    "- Referred to as categorical varibles as in seperate each category, get their values/#occurences respectively \n",
    "- Returns \"Levels\" with the columns and #occurences of that column\n",
    "- Sources\n",
    "    - [R Documentation for Factors](https://www.rdocumentation.org/packages/base/versions/3.6.2/topics/factor)\n",
    "    - [Factors in R](https://www.stat.berkeley.edu/~s133/factors.html) by Berkeley\n",
    "    - [R - Factors](https://www.tutorialspoint.com/r/r_factors.htm) by Tutorialspoint"
   ]
  },
  {
   "cell_type": "code",
   "execution_count": 11,
   "id": "154ea669-db1b-45b9-bec8-57343d2da2d3",
   "metadata": {},
   "outputs": [
    {
     "data": {
      "text/html": [
       "<style>\n",
       ".list-inline {list-style: none; margin:0; padding: 0}\n",
       ".list-inline>li {display: inline-block}\n",
       ".list-inline>li:not(:last-child)::after {content: \"\\00b7\"; padding: 0 .5ex}\n",
       "</style>\n",
       "<ol class=list-inline><li>1</li><li>2</li><li>2</li><li>3</li><li>1</li><li>2</li><li>3</li><li>3</li><li>1</li><li>2</li><li>3</li><li>3</li><li>1</li></ol>\n",
       "\n",
       "<details>\n",
       "\t<summary style=display:list-item;cursor:pointer>\n",
       "\t\t<strong>Levels</strong>:\n",
       "\t</summary>\n",
       "\t<style>\n",
       "\t.list-inline {list-style: none; margin:0; padding: 0}\n",
       "\t.list-inline>li {display: inline-block}\n",
       "\t.list-inline>li:not(:last-child)::after {content: \"\\00b7\"; padding: 0 .5ex}\n",
       "\t</style>\n",
       "\t<ol class=list-inline><li>'1'</li><li>'2'</li><li>'3'</li></ol>\n",
       "</details>"
      ],
      "text/latex": [
       "\\begin{enumerate*}\n",
       "\\item 1\n",
       "\\item 2\n",
       "\\item 2\n",
       "\\item 3\n",
       "\\item 1\n",
       "\\item 2\n",
       "\\item 3\n",
       "\\item 3\n",
       "\\item 1\n",
       "\\item 2\n",
       "\\item 3\n",
       "\\item 3\n",
       "\\item 1\n",
       "\\end{enumerate*}\n",
       "\n",
       "\\emph{Levels}: \\begin{enumerate*}\n",
       "\\item '1'\n",
       "\\item '2'\n",
       "\\item '3'\n",
       "\\end{enumerate*}\n"
      ],
      "text/markdown": [
       "1. 1\n",
       "2. 2\n",
       "3. 2\n",
       "4. 3\n",
       "5. 1\n",
       "6. 2\n",
       "7. 3\n",
       "8. 3\n",
       "9. 1\n",
       "10. 2\n",
       "11. 3\n",
       "12. 3\n",
       "13. 1\n",
       "\n",
       "\n",
       "\n",
       "**Levels**: 1. '1'\n",
       "2. '2'\n",
       "3. '3'\n",
       "\n",
       "\n"
      ],
      "text/plain": [
       " [1] 1 2 2 3 1 2 3 3 1 2 3 3 1\n",
       "Levels: 1 2 3"
      ]
     },
     "metadata": {},
     "output_type": "display_data"
    }
   ],
   "source": [
    "data = c(1,2,2,3,1,2,3,3,1,2,3,3,1)\n",
    "fdata = factor(data)\n",
    "fdata"
   ]
  },
  {
   "cell_type": "code",
   "execution_count": 7,
   "id": "9da3d4ed-7a8e-44f8-bb66-8af5730b4b4b",
   "metadata": {},
   "outputs": [
    {
     "data": {
      "text/html": [
       "<style>\n",
       ".list-inline {list-style: none; margin:0; padding: 0}\n",
       ".list-inline>li {display: inline-block}\n",
       ".list-inline>li:not(:last-child)::after {content: \"\\00b7\"; padding: 0 .5ex}\n",
       "</style>\n",
       "<ol class=list-inline><li>I</li><li>II</li><li>II</li><li>III</li><li>I</li><li>II</li><li>III</li><li>III</li><li>I</li><li>II</li><li>III</li><li>III</li><li>I</li></ol>\n",
       "\n",
       "<details>\n",
       "\t<summary style=display:list-item;cursor:pointer>\n",
       "\t\t<strong>Levels</strong>:\n",
       "\t</summary>\n",
       "\t<style>\n",
       "\t.list-inline {list-style: none; margin:0; padding: 0}\n",
       "\t.list-inline>li {display: inline-block}\n",
       "\t.list-inline>li:not(:last-child)::after {content: \"\\00b7\"; padding: 0 .5ex}\n",
       "\t</style>\n",
       "\t<ol class=list-inline><li>'I'</li><li>'II'</li><li>'III'</li></ol>\n",
       "</details>"
      ],
      "text/latex": [
       "\\begin{enumerate*}\n",
       "\\item I\n",
       "\\item II\n",
       "\\item II\n",
       "\\item III\n",
       "\\item I\n",
       "\\item II\n",
       "\\item III\n",
       "\\item III\n",
       "\\item I\n",
       "\\item II\n",
       "\\item III\n",
       "\\item III\n",
       "\\item I\n",
       "\\end{enumerate*}\n",
       "\n",
       "\\emph{Levels}: \\begin{enumerate*}\n",
       "\\item 'I'\n",
       "\\item 'II'\n",
       "\\item 'III'\n",
       "\\end{enumerate*}\n"
      ],
      "text/markdown": [
       "1. I\n",
       "2. II\n",
       "3. II\n",
       "4. III\n",
       "5. I\n",
       "6. II\n",
       "7. III\n",
       "8. III\n",
       "9. I\n",
       "10. II\n",
       "11. III\n",
       "12. III\n",
       "13. I\n",
       "\n",
       "\n",
       "\n",
       "**Levels**: 1. 'I'\n",
       "2. 'II'\n",
       "3. 'III'\n",
       "\n",
       "\n"
      ],
      "text/plain": [
       " [1] I   II  II  III I   II  III III I   II  III III I  \n",
       "Levels: I II III"
      ]
     },
     "metadata": {},
     "output_type": "display_data"
    }
   ],
   "source": [
    "rdata = factor(data, labels=c(\"I\", \"II\", \"III\"))\n",
    "rdata"
   ]
  },
  {
   "cell_type": "code",
   "execution_count": 9,
   "id": "50443c82-675c-4b94-948c-df8ae1d8adf6",
   "metadata": {},
   "outputs": [
    {
     "data": {
      "text/html": [
       "<style>\n",
       ".list-inline {list-style: none; margin:0; padding: 0}\n",
       ".list-inline>li {display: inline-block}\n",
       ".list-inline>li:not(:last-child)::after {content: \"\\00b7\"; padding: 0 .5ex}\n",
       "</style>\n",
       "<ol class=list-inline><li>I</li><li>II</li><li>II</li><li>III</li><li>I</li><li>II</li><li>III</li><li>III</li><li>I</li><li>II</li><li>III</li><li>III</li><li>I</li></ol>\n",
       "\n",
       "<details>\n",
       "\t<summary style=display:list-item;cursor:pointer>\n",
       "\t\t<strong>Levels</strong>:\n",
       "\t</summary>\n",
       "\t<style>\n",
       "\t.list-inline {list-style: none; margin:0; padding: 0}\n",
       "\t.list-inline>li {display: inline-block}\n",
       "\t.list-inline>li:not(:last-child)::after {content: \"\\00b7\"; padding: 0 .5ex}\n",
       "\t</style>\n",
       "\t<ol class=list-inline><li>'I'</li><li>'II'</li><li>'III'</li></ol>\n",
       "</details>"
      ],
      "text/latex": [
       "\\begin{enumerate*}\n",
       "\\item I\n",
       "\\item II\n",
       "\\item II\n",
       "\\item III\n",
       "\\item I\n",
       "\\item II\n",
       "\\item III\n",
       "\\item III\n",
       "\\item I\n",
       "\\item II\n",
       "\\item III\n",
       "\\item III\n",
       "\\item I\n",
       "\\end{enumerate*}\n",
       "\n",
       "\\emph{Levels}: \\begin{enumerate*}\n",
       "\\item 'I'\n",
       "\\item 'II'\n",
       "\\item 'III'\n",
       "\\end{enumerate*}\n"
      ],
      "text/markdown": [
       "1. I\n",
       "2. II\n",
       "3. II\n",
       "4. III\n",
       "5. I\n",
       "6. II\n",
       "7. III\n",
       "8. III\n",
       "9. I\n",
       "10. II\n",
       "11. III\n",
       "12. III\n",
       "13. I\n",
       "\n",
       "\n",
       "\n",
       "**Levels**: 1. 'I'\n",
       "2. 'II'\n",
       "3. 'III'\n",
       "\n",
       "\n"
      ],
      "text/plain": [
       " [1] I   II  II  III I   II  III III I   II  III III I  \n",
       "Levels: I II III"
      ]
     },
     "metadata": {},
     "output_type": "display_data"
    }
   ],
   "source": [
    "# Convert the default factor fdata to roman numerals, use the assignment form of the levels function\n",
    "levels(fdata) = c(\"I\", \"II\", \"III\")\n",
    "fdata"
   ]
  },
  {
   "cell_type": "code",
   "execution_count": 12,
   "id": "dd4474c0-9239-4193-8547-4534d12ab709",
   "metadata": {},
   "outputs": [
    {
     "data": {
      "text/html": [
       "<table class=\"dataframe\">\n",
       "<caption>A data.frame: 7 × 3</caption>\n",
       "<thead>\n",
       "\t<tr><th scope=col>height</th><th scope=col>weight</th><th scope=col>gender</th></tr>\n",
       "\t<tr><th scope=col>&lt;dbl&gt;</th><th scope=col>&lt;dbl&gt;</th><th scope=col>&lt;chr&gt;</th></tr>\n",
       "</thead>\n",
       "<tbody>\n",
       "\t<tr><td>132</td><td>48</td><td>male  </td></tr>\n",
       "\t<tr><td>151</td><td>49</td><td>male  </td></tr>\n",
       "\t<tr><td>162</td><td>66</td><td>female</td></tr>\n",
       "\t<tr><td>139</td><td>53</td><td>female</td></tr>\n",
       "\t<tr><td>166</td><td>67</td><td>male  </td></tr>\n",
       "\t<tr><td>147</td><td>52</td><td>female</td></tr>\n",
       "\t<tr><td>122</td><td>40</td><td>male  </td></tr>\n",
       "</tbody>\n",
       "</table>\n"
      ],
      "text/latex": [
       "A data.frame: 7 × 3\n",
       "\\begin{tabular}{lll}\n",
       " height & weight & gender\\\\\n",
       " <dbl> & <dbl> & <chr>\\\\\n",
       "\\hline\n",
       "\t 132 & 48 & male  \\\\\n",
       "\t 151 & 49 & male  \\\\\n",
       "\t 162 & 66 & female\\\\\n",
       "\t 139 & 53 & female\\\\\n",
       "\t 166 & 67 & male  \\\\\n",
       "\t 147 & 52 & female\\\\\n",
       "\t 122 & 40 & male  \\\\\n",
       "\\end{tabular}\n"
      ],
      "text/markdown": [
       "\n",
       "A data.frame: 7 × 3\n",
       "\n",
       "| height &lt;dbl&gt; | weight &lt;dbl&gt; | gender &lt;chr&gt; |\n",
       "|---|---|---|\n",
       "| 132 | 48 | male   |\n",
       "| 151 | 49 | male   |\n",
       "| 162 | 66 | female |\n",
       "| 139 | 53 | female |\n",
       "| 166 | 67 | male   |\n",
       "| 147 | 52 | female |\n",
       "| 122 | 40 | male   |\n",
       "\n"
      ],
      "text/plain": [
       "  height weight gender\n",
       "1 132    48     male  \n",
       "2 151    49     male  \n",
       "3 162    66     female\n",
       "4 139    53     female\n",
       "5 166    67     male  \n",
       "6 147    52     female\n",
       "7 122    40     male  "
      ]
     },
     "metadata": {},
     "output_type": "display_data"
    }
   ],
   "source": [
    "# On creating any data frame with a column of text data, R treats the text column as categorical data and creates factors on it\n",
    "\n",
    "# Create the vectors for the df\n",
    "height <- c(132, 151, 162, 139, 166, 147, 122)\n",
    "weight <- c(48, 49, 66, 53, 67, 52, 40)\n",
    "gender <- c(\"male\",\"male\",\"female\",\"female\",\"male\",\"female\",\"male\")\n",
    "\n",
    "# Create the df\n",
    "input_data <- data.frame(height, weight, gender)\n",
    "input_data"
   ]
  },
  {
   "cell_type": "code",
   "execution_count": 13,
   "id": "7d2ec87a-c290-4155-8b32-62151acf27d3",
   "metadata": {},
   "outputs": [
    {
     "name": "stdout",
     "output_type": "stream",
     "text": [
      "  height weight gender\n",
      "1    132     48   male\n",
      "2    151     49   male\n",
      "3    162     66 female\n",
      "4    139     53 female\n",
      "5    166     67   male\n",
      "6    147     52 female\n",
      "7    122     40   male\n"
     ]
    }
   ],
   "source": [
    "print(input_data)"
   ]
  },
  {
   "cell_type": "code",
   "execution_count": 18,
   "id": "e19bd8c3-b9e5-4a11-b176-eb517bc5ee71",
   "metadata": {},
   "outputs": [
    {
     "name": "stdout",
     "output_type": "stream",
     "text": [
      "[1] FALSE\n",
      "[1] FALSE\n",
      "[1] \"male\"   \"male\"   \"female\" \"female\" \"male\"   \"female\" \"male\"  \n"
     ]
    }
   ],
   "source": [
    "# Test if the gender column is a factor; should return True according to their code\n",
    "print(is.factor(input_data$gender))\n",
    "\n",
    "print(is.factor(input_data$weight))\n",
    "\n",
    "print(input_data$gender)"
   ]
  },
  {
   "cell_type": "code",
   "execution_count": 19,
   "id": "44ebe08c-c7bb-4467-89ef-f2030df8f240",
   "metadata": {},
   "outputs": [
    {
     "data": {
      "text/html": [
       "<style>\n",
       ".list-inline {list-style: none; margin:0; padding: 0}\n",
       ".list-inline>li {display: inline-block}\n",
       ".list-inline>li:not(:last-child)::after {content: \"\\00b7\"; padding: 0 .5ex}\n",
       "</style>\n",
       "<ol class=list-inline><li>(115,131]</li><li>(115,131]</li><li>(115,131]</li><li>(115,131]</li><li>(115,131]</li><li>(115,131]</li><li>(131,148]</li><li>(131,148]</li><li>(131,148]</li><li>(131,148]</li><li>(131,148]</li><li>(148,164]</li><li>(148,164]</li><li>(148,164]</li><li>(148,164]</li></ol>\n",
       "\n",
       "<details>\n",
       "\t<summary style=display:list-item;cursor:pointer>\n",
       "\t\t<strong>Levels</strong>:\n",
       "\t</summary>\n",
       "\t<style>\n",
       "\t.list-inline {list-style: none; margin:0; padding: 0}\n",
       "\t.list-inline>li {display: inline-block}\n",
       "\t.list-inline>li:not(:last-child)::after {content: \"\\00b7\"; padding: 0 .5ex}\n",
       "\t</style>\n",
       "\t<ol class=list-inline><li>'(115,131]'</li><li>'(131,148]'</li><li>'(148,164]'</li></ol>\n",
       "</details>"
      ],
      "text/latex": [
       "\\begin{enumerate*}\n",
       "\\item (115,131{]}\n",
       "\\item (115,131{]}\n",
       "\\item (115,131{]}\n",
       "\\item (115,131{]}\n",
       "\\item (115,131{]}\n",
       "\\item (115,131{]}\n",
       "\\item (131,148{]}\n",
       "\\item (131,148{]}\n",
       "\\item (131,148{]}\n",
       "\\item (131,148{]}\n",
       "\\item (131,148{]}\n",
       "\\item (148,164{]}\n",
       "\\item (148,164{]}\n",
       "\\item (148,164{]}\n",
       "\\item (148,164{]}\n",
       "\\end{enumerate*}\n",
       "\n",
       "\\emph{Levels}: \\begin{enumerate*}\n",
       "\\item '(115,131{]}'\n",
       "\\item '(131,148{]}'\n",
       "\\item '(148,164{]}'\n",
       "\\end{enumerate*}\n"
      ],
      "text/markdown": [
       "1. (115,131]\n",
       "2. (115,131]\n",
       "3. (115,131]\n",
       "4. (115,131]\n",
       "5. (115,131]\n",
       "6. (115,131]\n",
       "7. (131,148]\n",
       "8. (131,148]\n",
       "9. (131,148]\n",
       "10. (131,148]\n",
       "11. (131,148]\n",
       "12. (148,164]\n",
       "13. (148,164]\n",
       "14. (148,164]\n",
       "15. (148,164]\n",
       "\n",
       "\n",
       "\n",
       "**Levels**: 1. '(115,131]'\n",
       "2. '(131,148]'\n",
       "3. '(148,164]'\n",
       "\n",
       "\n"
      ],
      "text/plain": [
       " [1] (115,131] (115,131] (115,131] (115,131] (115,131] (115,131] (131,148]\n",
       " [8] (131,148] (131,148] (131,148] (131,148] (148,164] (148,164] (148,164]\n",
       "[15] (148,164]\n",
       "Levels: (115,131] (131,148] (148,164]"
      ]
     },
     "metadata": {},
     "output_type": "display_data"
    }
   ],
   "source": [
    "wfact = cut(women$weight,3)\n",
    "wfact"
   ]
  },
  {
   "cell_type": "code",
   "execution_count": 20,
   "id": "a8fcf4da-3398-4eb3-836d-0467bd55f798",
   "metadata": {},
   "outputs": [
    {
     "data": {
      "text/plain": [
       "wfact\n",
       "(115,131] (131,148] (148,164] \n",
       "        6         5         4 "
      ]
     },
     "metadata": {},
     "output_type": "display_data"
    }
   ],
   "source": [
    "table(wfact)"
   ]
  },
  {
   "cell_type": "code",
   "execution_count": 22,
   "id": "87c548ac-c4cc-4bad-9ef9-7a6679083c71",
   "metadata": {},
   "outputs": [
    {
     "data": {
      "text/html": [
       "FALSE"
      ],
      "text/latex": [
       "FALSE"
      ],
      "text/markdown": [
       "FALSE"
      ],
      "text/plain": [
       "[1] FALSE"
      ]
     },
     "metadata": {},
     "output_type": "display_data"
    }
   ],
   "source": []
  },
  {
   "cell_type": "code",
   "execution_count": null,
   "id": "c71188be-1237-407b-a142-9eb5c5597d95",
   "metadata": {},
   "outputs": [],
   "source": []
  }
 ],
 "metadata": {
  "kernelspec": {
   "display_name": "R",
   "language": "R",
   "name": "ir"
  },
  "language_info": {
   "codemirror_mode": "r",
   "file_extension": ".r",
   "mimetype": "text/x-r-source",
   "name": "R",
   "pygments_lexer": "r",
   "version": "4.2.1"
  }
 },
 "nbformat": 4,
 "nbformat_minor": 5
}
