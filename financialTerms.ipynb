{
 "cells": [
  {
   "cell_type": "markdown",
   "id": "d1ea891c-f35d-461b-b115-a144b40f020f",
   "metadata": {},
   "source": [
    "# Financial Terms from Tony Robbins' Book Titled *Money: Master the Game*\n",
    "- See [notes in notion](https://detraviousjbrinkley.notion.site/Money-Master-the-Game-by-Tony-Robbins-d909838405b84831a071db6c453ea11f)\n",
    "- Tax-Advantage Account\n",
    "- Tax-Advantage Investment"
   ]
  },
  {
   "cell_type": "code",
   "execution_count": 4,
   "id": "411be7d5-9082-440c-b928-7ad94a50c655",
   "metadata": {},
   "outputs": [],
   "source": [
    "def calc_tax_deferred(taxable_income, contribution):\n",
    "    return taxable_income - contribution"
   ]
  },
  {
   "cell_type": "code",
   "execution_count": 16,
   "id": "4305ccdb-015a-4191-a774-f2f53c6e335e",
   "metadata": {},
   "outputs": [
    {
     "data": {
      "text/plain": [
       "47000"
      ]
     },
     "execution_count": 16,
     "metadata": {},
     "output_type": "execute_result"
    }
   ],
   "source": [
    "taxable_income = 50000\n",
    "contribution = 3000\n",
    "calc_tax_deferred(taxable_income, contribution)"
   ]
  },
  {
   "cell_type": "code",
   "execution_count": 13,
   "id": "2da7448b-c6e2-44f9-80e0-3608c6cbe9d2",
   "metadata": {},
   "outputs": [],
   "source": [
    "def calc(contribution, yrly_return, years):\n",
    "    value = contribution * yrly_return * years\n",
    "    value += value\n",
    "    return value"
   ]
  },
  {
   "cell_type": "code",
   "execution_count": 14,
   "id": "d8a9eaeb-d39b-4609-954c-3f105a01abd7",
   "metadata": {},
   "outputs": [
    {
     "data": {
      "text/plain": [
       "1800.0"
      ]
     },
     "execution_count": 14,
     "metadata": {},
     "output_type": "execute_result"
    }
   ],
   "source": [
    "contribution = 1000\n",
    "yrly_return = 0.03\n",
    "years = 30\n",
    "calc(contribution, yrly_return, years)"
   ]
  },
  {
   "cell_type": "code",
   "execution_count": null,
   "id": "2330278b-a16c-4d18-a243-8236cca38e5d",
   "metadata": {},
   "outputs": [],
   "source": []
  }
 ],
 "metadata": {
  "kernelspec": {
   "display_name": "Python 3",
   "language": "python",
   "name": "python3"
  },
  "language_info": {
   "codemirror_mode": {
    "name": "ipython",
    "version": 3
   },
   "file_extension": ".py",
   "mimetype": "text/x-python",
   "name": "python",
   "nbconvert_exporter": "python",
   "pygments_lexer": "ipython3",
   "version": "3.7.5"
  }
 },
 "nbformat": 4,
 "nbformat_minor": 5
}
