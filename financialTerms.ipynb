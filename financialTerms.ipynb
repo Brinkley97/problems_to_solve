{
 "cells": [
  {
   "cell_type": "markdown",
   "id": "d1ea891c-f35d-461b-b115-a144b40f020f",
   "metadata": {},
   "source": [
    "# Financial Terms from Tony Robbins' Book Titled *Money: Master the Game*\n",
    "- See [notes in notion](https://detraviousjbrinkley.notion.site/Money-Master-the-Game-by-Tony-Robbins-d909838405b84831a071db6c453ea11f)\n",
    "- Tax-Advantage Account\n",
    "- Tax-Advantage Investment"
   ]
  },
  {
   "cell_type": "code",
   "execution_count": 1,
   "id": "411be7d5-9082-440c-b928-7ad94a50c655",
   "metadata": {},
   "outputs": [],
   "source": [
    "def calc_tax_deferred(taxable_income, contribution):\n",
    "    return taxable_income - contribution"
   ]
  },
  {
   "cell_type": "code",
   "execution_count": 2,
   "id": "4305ccdb-015a-4191-a774-f2f53c6e335e",
   "metadata": {},
   "outputs": [
    {
     "data": {
      "text/plain": [
       "47000"
      ]
     },
     "execution_count": 2,
     "metadata": {},
     "output_type": "execute_result"
    }
   ],
   "source": [
    "taxable_income = 50000\n",
    "contribution = 3000\n",
    "calc_tax_deferred(taxable_income, contribution)"
   ]
  },
  {
   "cell_type": "code",
   "execution_count": 3,
   "id": "2da7448b-c6e2-44f9-80e0-3608c6cbe9d2",
   "metadata": {},
   "outputs": [],
   "source": [
    "def calc(contribution, yrly_return, years):\n",
    "    value = contribution * yrly_return * years\n",
    "    value += value\n",
    "    return value"
   ]
  },
  {
   "cell_type": "code",
   "execution_count": 4,
   "id": "d8a9eaeb-d39b-4609-954c-3f105a01abd7",
   "metadata": {},
   "outputs": [
    {
     "data": {
      "text/plain": [
       "1800.0"
      ]
     },
     "execution_count": 4,
     "metadata": {},
     "output_type": "execute_result"
    }
   ],
   "source": [
    "contribution = 1000\n",
    "yrly_return = 0.03\n",
    "years = 30\n",
    "calc(contribution, yrly_return, years)"
   ]
  },
  {
   "cell_type": "markdown",
   "id": "eff61fa7",
   "metadata": {},
   "source": [
    "# P 362 in Priciples of Microeconomics\n",
    "\n",
    "- How much we'll have in X years\n",
    "$$\n",
    "P_n = P_0 + (r * P_0) \\\n",
    "\\Rightarrow P_n = P_0 * (1 + r)^n\n",
    "$$\n",
    "\n",
    "- Current value of a future payment\n",
    "$$\n",
    "P_0 = \\frac{P_n}{(1 + r)^n}\n",
    "$$\n",
    "\n",
    "- n, # periods (ie: years)\n",
    "---\n",
    "- Questions\n",
    "    1. $15,000 in 30 years at 10% interest or $1000 now?"
   ]
  },
  {
   "cell_type": "code",
   "execution_count": 14,
   "id": "2330278b-a16c-4d18-a243-8236cca38e5d",
   "metadata": {},
   "outputs": [],
   "source": [
    "def calc_future_value(p_0, n_periods, interest_rate):\n",
    "    \"\"\"Calculate the future value (p_n) with the current value (p_0)\n",
    "    Parameters:\n",
    "    -----------\n",
    "    p_0: `float`\n",
    "        The present or initial value\n",
    "    n_periods: `int`\n",
    "        The number of periods (typically years)\n",
    "    interest_rate: `float`\n",
    "        The interest rate per period, expressed as a decimal\n",
    "    \"\"\"\n",
    "    \n",
    "    p_n = round(p_0 * (1 + interest_rate) ** n_periods, 2)\n",
    "    return p_n\n",
    "\n",
    "def calc_present_value(p_n, n_periods, interest_rate):\n",
    "    \"\"\"Calculate the current value (p_0) of a future payment (p_n)\n",
    "    Parameters:\n",
    "    -----------\n",
    "\n",
    "    p_n: `int`\n",
    "        The future value\n",
    "    n_periods: `int`\n",
    "        The number of periods (typically years)\n",
    "    interest_rate: `float`\n",
    "        The interest rate per period, expressed as a decimal\n",
    "    \"\"\"\n",
    "\n",
    "    p_0 = round(p_n / ((1 + interest_rate) ** n_periods), 2)\n",
    "    return p_0"
   ]
  },
  {
   "cell_type": "code",
   "execution_count": 12,
   "id": "fe378129",
   "metadata": {},
   "outputs": [],
   "source": []
  },
  {
   "cell_type": "code",
   "execution_count": 7,
   "id": "88830742",
   "metadata": {},
   "outputs": [
    {
     "data": {
      "text/plain": [
       "859.63"
      ]
     },
     "execution_count": 7,
     "metadata": {},
     "output_type": "execute_result"
    }
   ],
   "source": [
    "p_n = 15000\n",
    "n_periods = 30\n",
    "interest_rate = .10\n",
    "calc_present_value(p_n, n_periods, interest_rate)"
   ]
  },
  {
   "cell_type": "code",
   "execution_count": 8,
   "id": "e290470b",
   "metadata": {},
   "outputs": [],
   "source": []
  },
  {
   "cell_type": "code",
   "execution_count": 11,
   "id": "b9c7c49e",
   "metadata": {},
   "outputs": [
    {
     "data": {
      "text/plain": [
       "261741.03"
      ]
     },
     "execution_count": 11,
     "metadata": {},
     "output_type": "execute_result"
    }
   ],
   "source": [
    "p_0 = 15000\n",
    "n_periods = 30\n",
    "interest_rate = .10\n",
    "calc_future_value(p_0, n_periods, interest_rate)"
   ]
  },
  {
   "cell_type": "code",
   "execution_count": null,
   "id": "d01fa20f",
   "metadata": {},
   "outputs": [],
   "source": []
  }
 ],
 "metadata": {
  "kernelspec": {
   "display_name": "base",
   "language": "python",
   "name": "python3"
  },
  "language_info": {
   "codemirror_mode": {
    "name": "ipython",
    "version": 3
   },
   "file_extension": ".py",
   "mimetype": "text/x-python",
   "name": "python",
   "nbconvert_exporter": "python",
   "pygments_lexer": "ipython3",
   "version": "3.9.18"
  }
 },
 "nbformat": 4,
 "nbformat_minor": 5
}
