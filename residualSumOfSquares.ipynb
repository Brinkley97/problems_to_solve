{
 "cells": [
  {
   "cell_type": "markdown",
   "id": "84ace908",
   "metadata": {},
   "source": [
    "# Residual Sum of Squares\n",
    "+ p218/p249 of Machine Learning by Kevin located in USC ML class files\n",
    "+ [example below](https://www.educative.io/edpresso/the-residual-sum-of-squares)\n",
    "+ residual : the difference between the expected output & predicted value\n"
   ]
  },
  {
   "cell_type": "code",
   "execution_count": 18,
   "id": "8747b8a5",
   "metadata": {},
   "outputs": [],
   "source": [
    "import numpy as np"
   ]
  },
  {
   "cell_type": "code",
   "execution_count": 28,
   "id": "dde9022e",
   "metadata": {},
   "outputs": [],
   "source": [
    "a = 1 \n",
    "b = 2\n",
    "x = np.array([0, 1, 2, 3, 4])\n",
    "y = np.array([1, 2, 6, 7, 8])"
   ]
  },
  {
   "cell_type": "code",
   "execution_count": 38,
   "id": "e4821ec7",
   "metadata": {},
   "outputs": [
    {
     "name": "stdout",
     "output_type": "stream",
     "text": [
      "sse :  11\n",
      "mse :  2.2\n"
     ]
    }
   ],
   "source": [
    "sse = np.sum(np.square(y - (a + (b * x))))\n",
    "print(\"sse : \", sse)\n",
    "mean_squared_error = sse / n\n",
    "print(\"mse : \", mean_squared_error)"
   ]
  },
  {
   "cell_type": "code",
   "execution_count": 35,
   "id": "64bcc460",
   "metadata": {},
   "outputs": [
    {
     "data": {
      "text/plain": [
       "5"
      ]
     },
     "execution_count": 35,
     "metadata": {},
     "output_type": "execute_result"
    }
   ],
   "source": [
    "n = len(x)\n",
    "n"
   ]
  },
  {
   "cell_type": "markdown",
   "id": "18851118",
   "metadata": {},
   "source": [
    "+ How come when I reverse the sse, it's the same outcome?\n",
    "+ Break down formula to understand"
   ]
  },
  {
   "cell_type": "code",
   "execution_count": 39,
   "id": "8e5cbcb7",
   "metadata": {},
   "outputs": [
    {
     "name": "stdout",
     "output_type": "stream",
     "text": [
      "sse_reversed : 11\n",
      "mse :  2.2\n"
     ]
    }
   ],
   "source": [
    "sse_reversed = np.sum(np.square((a + (b * x)) - y))\n",
    "print(\"sse_reversed :\", sse_reversed)\n",
    "mean_squared_error = sse_reversed / n\n",
    "print(\"mse : \", mean_squared_error)"
   ]
  },
  {
   "cell_type": "code",
   "execution_count": null,
   "id": "4999cb6d",
   "metadata": {},
   "outputs": [],
   "source": []
  }
 ],
 "metadata": {
  "kernelspec": {
   "display_name": "Python 3",
   "language": "python",
   "name": "python3"
  },
  "language_info": {
   "codemirror_mode": {
    "name": "ipython",
    "version": 3
   },
   "file_extension": ".py",
   "mimetype": "text/x-python",
   "name": "python",
   "nbconvert_exporter": "python",
   "pygments_lexer": "ipython3",
   "version": "3.8.8"
  }
 },
 "nbformat": 4,
 "nbformat_minor": 5
}
