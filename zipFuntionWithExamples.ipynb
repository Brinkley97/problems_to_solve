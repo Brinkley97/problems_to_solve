{
 "cells": [
  {
   "cell_type": "markdown",
   "id": "022c642a",
   "metadata": {},
   "source": [
    "# Coding Zip Functions\n",
    "1. [Real Example](http://localhost:8888/notebooks/cv/nn_from_scratch/basicsOfInputsWeightsBiases.ipynb#A-Single-Neuron)"
   ]
  },
  {
   "cell_type": "code",
   "execution_count": 13,
   "id": "072e1cb2",
   "metadata": {},
   "outputs": [
    {
     "name": "stdout",
     "output_type": "stream",
     "text": [
      "(('John', 'Jenny'), ('Charles', 'Christy'), ('Mike', 'Monica'))\n"
     ]
    }
   ],
   "source": [
    "a = (\"John\", \"Charles\", \"Mike\")\n",
    "b = (\"Jenny\", \"Christy\", \"Monica\")\n",
    "\n",
    "x = zip(a, b)\n",
    "\n",
    "#use the tuple() function to display a readable version of the result:\n",
    "\n",
    "print(tuple(x))"
   ]
  },
  {
   "cell_type": "code",
   "execution_count": 14,
   "id": "95965e18",
   "metadata": {},
   "outputs": [
    {
     "name": "stdout",
     "output_type": "stream",
     "text": [
      "(('John', 'Jenny'), ('Charles', 'Christy'), ('Mike', 'Monica'))\n"
     ]
    }
   ],
   "source": [
    "# If one tuple contains more items, these items are ignored:\n",
    "\n",
    "a = (\"John\", \"Charles\", \"Mike\")\n",
    "b = (\"Jenny\", \"Christy\", \"Monica\", \"Vicky\")\n",
    "\n",
    "x = zip(a, b)\n",
    "print(tuple(x))"
   ]
  },
  {
   "cell_type": "code",
   "execution_count": 15,
   "id": "9367594c",
   "metadata": {},
   "outputs": [
    {
     "name": "stdout",
     "output_type": "stream",
     "text": [
      "The zipped result is : {('Nikhil', 1, 50), ('Astha', 2, 70), ('Shambhavi', 3, 60), ('Manjeet', 4, 40)}\n"
     ]
    }
   ],
   "source": [
    "# initializing lists\n",
    "name = [\"Manjeet\", \"Nikhil\", \"Shambhavi\", \"Astha\"]\n",
    "roll_no = [ 4, 1, 3, 2 ]\n",
    "marks = [ 40, 50, 60, 70 ]\n",
    " \n",
    "# using zip() to map values\n",
    "mapped = zip(name, roll_no, marks)\n",
    "# print(tuple(mapped)) \n",
    "\n",
    "# converting values to print as set\n",
    "mapped = set(mapped)\n",
    " \n",
    "# printing resultant values\n",
    "print (\"The zipped result is : \",end=\"\")\n",
    "print (mapped)"
   ]
  }
 ],
 "metadata": {
  "kernelspec": {
   "display_name": "Python 3",
   "language": "python",
   "name": "python3"
  },
  "language_info": {
   "codemirror_mode": {
    "name": "ipython",
    "version": 3
   },
   "file_extension": ".py",
   "mimetype": "text/x-python",
   "name": "python",
   "nbconvert_exporter": "python",
   "pygments_lexer": "ipython3",
   "version": "3.7.5"
  }
 },
 "nbformat": 4,
 "nbformat_minor": 5
}
