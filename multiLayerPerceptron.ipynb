{
 "cells": [
  {
   "cell_type": "code",
   "execution_count": 27,
   "id": "guilty-bachelor",
   "metadata": {},
   "outputs": [
    {
     "name": "stdout",
     "output_type": "stream",
     "text": [
      "0.8807970779778823\n"
     ]
    }
   ],
   "source": [
    "import numpy as np\n",
    "\n",
    "def multiLayerPerceptron(weight1, weight2, bias) :\n",
    "    x = (weight1 * 0.4) + (weight2 * 0.6) + bias\n",
    "    return x\n",
    "\n",
    "def sigmoidFunction() :\n",
    "    x = multiLayerPerceptron(2, 6, -2)\n",
    "    y = multiLayerPerceptron(3, 5, -2.2)\n",
    "    z = multiLayerPerceptron(5, 4, -3)\n",
    "#     sigmoidFun = 1 / (1 + np.exp(-x))\n",
    "    sigmoidFun = 1 / (1 + np.exp(-y))\n",
    "#     sigmoidFun = 1 / (1 + np.exp(-z))\n",
    "    return sigmoidFun\n",
    "\n",
    "print(sigmoidFunction())"
   ]
  },
  {
   "cell_type": "code",
   "execution_count": null,
   "id": "impaired-glass",
   "metadata": {},
   "outputs": [],
   "source": []
  }
 ],
 "metadata": {
  "kernelspec": {
   "display_name": "Python 3",
   "language": "python",
   "name": "python3"
  },
  "language_info": {
   "codemirror_mode": {
    "name": "ipython",
    "version": 3
   },
   "file_extension": ".py",
   "mimetype": "text/x-python",
   "name": "python",
   "nbconvert_exporter": "python",
   "pygments_lexer": "ipython3",
   "version": "3.7.3"
  }
 },
 "nbformat": 4,
 "nbformat_minor": 5
}
