{
 "cells": [
  {
   "cell_type": "markdown",
   "id": "0d70a0da-b2ae-4b62-8e04-adb020b7cb4e",
   "metadata": {},
   "source": [
    "# Linear Regression Algorithm\n",
    "\n",
    "- Book: P53 of Grokking Machine Learning MEAP Edition Manning Early Access Program"
   ]
  },
  {
   "cell_type": "code",
   "execution_count": 12,
   "id": "9a086144-3ad5-4adf-be15-7e92e973fab7",
   "metadata": {},
   "outputs": [],
   "source": [
    "import sys\n",
    "sys.path.insert(1, '/Users/brinkley97/Documents/development/problems_to_solve/linear_regression_data/g/')\n",
    "import utils\n",
    "import numpy as np\n",
    "import matplotlib.pyplot as plt"
   ]
  },
  {
   "cell_type": "code",
   "execution_count": 13,
   "id": "329e5068-ed3a-4c44-ba24-6cdf9954ca14",
   "metadata": {},
   "outputs": [],
   "source": [
    "def square_trick(price_per_room, base_price, number_of_rooms, y, learning_rate):\n",
    "    y_hat = base_price + (price_per_room * number_of_rooms)\n",
    "    error = y - y_hat\n",
    "    # print(\"error:\", y, \"-\", y_hat, \"=\", error)\n",
    "    base_price = base_price + (learning_rate * error) \n",
    "    price_per_room = learning_rate * number_of_rooms * error\n",
    "    \n",
    "    \n",
    "    return price_per_room, base_price"
   ]
  },
  {
   "cell_type": "code",
   "execution_count": 14,
   "id": "341e2891-58c6-4ecd-81a3-cb5f3b5aa1ce",
   "metadata": {},
   "outputs": [],
   "source": [
    "# square_trick(50, 100, 2, 300, 1)"
   ]
  },
  {
   "cell_type": "code",
   "execution_count": 32,
   "id": "ac393efa-e90d-449a-b43d-e4a0d3c1712e",
   "metadata": {},
   "outputs": [],
   "source": [
    "def linear_regression(features, labels, learning_rate, epochs):\n",
    "    # price_per_room = np.random.random()\n",
    "    price_per_room = 50\n",
    "    # print(price_per_room)\n",
    "    # base_price = np.random.random()\n",
    "    base_price = 100\n",
    "    # print(base_price)\n",
    "    \n",
    "    for y_int in range(epochs):\n",
    "        if True:\n",
    "            utils.draw_line(price_per_room, base_price, starting=0, ending=8)\n",
    "            # plt.plot(price_per_room, base_price, color='g')\n",
    "        y_int = np.random.randint(0, len(features)-1)\n",
    "        # print(y_int)\n",
    "        # prediction of #rooms and price for that room\n",
    "        num_rooms = features[y_int]\n",
    "        price = labels[y_int]\n",
    "        # print(num_rooms, \"for $\", price)\n",
    "        price_per_room, base_price = square_trick(price_per_room, base_price, num_rooms, price, learning_rate)\n",
    "    utils.draw_line(price_per_room, base_price, 'black', starting=0, ending=8)\n",
    "    utils.plot_points(features, labels)\n",
    "    print('Price per room:', price_per_room)\n",
    "    print('Base price:', base_price)\n",
    "    return price_per_room, base_price"
   ]
  },
  {
   "cell_type": "code",
   "execution_count": 33,
   "id": "ebf4b0c5-5835-482a-be41-4da5752298d9",
   "metadata": {},
   "outputs": [],
   "source": [
    "features = np.array([1,2,3,5,6,7])\n",
    "labels = np.array([155, 197, 244, 356,407,448])\n",
    "# labels = np.array([150, 200, 250, 350, 400, 450])\n",
    "\n",
    "# plt.scatter(features, labels, color='r')"
   ]
  },
  {
   "cell_type": "code",
   "execution_count": 34,
   "id": "7328b263-51ea-462b-88c3-70a46318d0f0",
   "metadata": {},
   "outputs": [],
   "source": [
    "# plt.plot(features, labels)"
   ]
  },
  {
   "cell_type": "code",
   "execution_count": 35,
   "id": "1e712fc8-df9a-42d4-9c78-322c67f552cb",
   "metadata": {},
   "outputs": [],
   "source": [
    "# plt.scatter(features, labels, color='r')\n",
    "# plt.plot(features, labels)"
   ]
  },
  {
   "cell_type": "code",
   "execution_count": 36,
   "id": "430cbf9a-8c41-4282-ac2c-dfbbac392850",
   "metadata": {},
   "outputs": [],
   "source": [
    "learning_rate = 0.01\n",
    "epochs = 1000"
   ]
  },
  {
   "cell_type": "code",
   "execution_count": 37,
   "id": "f899e16e-123b-417f-8c1a-196a476cf464",
   "metadata": {},
   "outputs": [
    {
     "name": "stdout",
     "output_type": "stream",
     "text": [
      "Price per room: 4.684723050424355\n",
      "Base price: 268.8895454373759\n"
     ]
    },
    {
     "data": {
      "text/plain": [
       "(4.684723050424355, 268.8895454373759)"
      ]
     },
     "execution_count": 37,
     "metadata": {},
     "output_type": "execute_result"
    },
    {
     "data": {
      "image/png": "[encoded data removed]",
      "text/plain": [
       "<Figure size 432x288 with 1 Axes>"
      ]
     },
     "metadata": {
      "needs_background": "light"
     },
     "output_type": "display_data"
    }
   ],
   "source": [
    "# plt.xlim(0, 70)\n",
    "\n",
    "# This line is for the x-axis to appear in the figure\n",
    "plt.ylim(0, 500)\n",
    "\n",
    "linear_regression(features, labels, learning_rate, epochs)"
   ]
  },
  {
   "cell_type": "code",
   "execution_count": null,
   "id": "df64ee26-ad18-4bd5-ad58-71c974c4b71f",
   "metadata": {},
   "outputs": [],
   "source": []
  },
  {
   "cell_type": "code",
   "execution_count": null,
   "id": "043d66db-79c6-4fdc-aa1a-304e9e3de7fb",
   "metadata": {},
   "outputs": [],
   "source": []
  }
 ],
 "metadata": {
  "kernelspec": {
   "display_name": "Python 3",
   "language": "python",
   "name": "python3"
  },
  "language_info": {
   "codemirror_mode": {
    "name": "ipython",
    "version": 3
   },
   "file_extension": ".py",
   "mimetype": "text/x-python",
   "name": "python",
   "nbconvert_exporter": "python",
   "pygments_lexer": "ipython3",
   "version": "3.7.5"
  }
 },
 "nbformat": 4,
 "nbformat_minor": 5
}
