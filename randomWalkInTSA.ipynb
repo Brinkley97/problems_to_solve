{
 "cells": [
  {
   "cell_type": "markdown",
   "id": "f8a57b57-6b33-4c4a-8ff9-b5bc0892d9e4",
   "metadata": {},
   "source": [
    "# Example 1.3.3 Random Walk\n",
    "\n",
    "Reference : \n",
    "1. Example - P 7 of Introduction to Time Series and Forecasting by Brockwell, Peter J and Davis, Richard A\n",
    "2. Data - P 46 of TSA: Forecasting and Control by George, Gwily, Gregory, and Greta; [see Brinkley97 git repo](https://github.com/Brinkley97/book-forecasting_and_control/blob/main/part_1/2-autocorrelation_func_and_spectrum_of_stationary_process/exercises/2.1.ipynb)\n",
    " \n",
    "---\n",
    "\n",
    "## Find the *t*th toss\n",
    "\n",
    "- $S_t - S_{t-1} = X_t$"
   ]
  },
  {
   "cell_type": "code",
   "execution_count": 2,
   "id": "9414fe87-91a7-47d2-b1a9-b74e1768ed5c",
   "metadata": {},
   "outputs": [],
   "source": [
    "S = [200, 202, 208, 204, 204, 207, 207, 204, 202, 199, 201, 198, 200, \n",
    "        202, 203, 205, 207, 211, 204, 206, 203, 203, 201, 198, 200, 206, \n",
    "        207, 206, 200, 203, 203, 200, 200, 195, 202, 204, 207, 206, 200]\n",
    "\n",
    "\n",
    "# print(\"time_series_data : \", len(time_series_data), time_series_data)\n",
    "# ts_data_df = pd.DataFrame(time_series_data)\n",
    "# ts_data_df.columns = [\"temperature measurements\"]"
   ]
  },
  {
   "cell_type": "code",
   "execution_count": 6,
   "id": "fd6a8a30-5959-4b33-b673-71053338d006",
   "metadata": {},
   "outputs": [
    {
     "data": {
      "text/plain": [
       "204"
      ]
     },
     "execution_count": 6,
     "metadata": {},
     "output_type": "execute_result"
    }
   ],
   "source": [
    "t_for_X = (S[3] - S[2]) + (S[2] - S[1]) + (S[1] - S[0])\n",
    "X_t = S[t_for_X]\n",
    "X_t"
   ]
  },
  {
   "cell_type": "code",
   "execution_count": null,
   "id": "3dbcdd48-fdf9-4a2f-ab2e-12e84664d782",
   "metadata": {},
   "outputs": [],
   "source": []
  }
 ],
 "metadata": {
  "kernelspec": {
   "display_name": "Python 3 (ipykernel)",
   "language": "python",
   "name": "python3"
  },
  "language_info": {
   "codemirror_mode": {
    "name": "ipython",
    "version": 3
   },
   "file_extension": ".py",
   "mimetype": "text/x-python",
   "name": "python",
   "nbconvert_exporter": "python",
   "pygments_lexer": "ipython3",
   "version": "3.9.13"
  }
 },
 "nbformat": 4,
 "nbformat_minor": 5
}
