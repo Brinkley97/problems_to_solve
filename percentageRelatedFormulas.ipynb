{
 "cells": [
  {
   "cell_type": "markdown",
   "id": "2d326487",
   "metadata": {},
   "source": [
    "# Percentage Related Formulas\n",
    "1. What : I'm in need to calculate the standard deviation of the [Obesity Data](https://nccd.cdc.gov/dnpao_dtm/rdPage.aspx?rdReport=DNPAO_DTM.ExploreByLocation&rdRequestForwarding=Form)\n",
    "2. Why : To prove mathematically (programmatically) if the \"Value\" per year is decreasing or increase\n",
    "    1. Why SD : Bc the denominators are different & I must calculate for the error. If denoms were the same, then I could implement the percent change formula.\n",
    "3. When : Tues, 1 June 2021 "
   ]
  },
  {
   "cell_type": "code",
   "execution_count": 20,
   "id": "008dd721",
   "metadata": {},
   "outputs": [
    {
     "data": {
      "text/plain": [
       "72.54374158815612"
      ]
     },
     "execution_count": 20,
     "metadata": {},
     "output_type": "execute_result"
    }
   ],
   "source": [
    "def percentFormula(value1, value2) :\n",
    "    outcome = (value1 / value2) * 100\n",
    "    return outcome\n",
    "#     print(outcome)\n",
    "\n",
    "percentChangeFormula(539, 743)"
   ]
  },
  {
   "cell_type": "code",
   "execution_count": 21,
   "id": "8c9874e9",
   "metadata": {},
   "outputs": [
    {
     "data": {
      "text/plain": [
       "60.731707317073166"
      ]
     },
     "execution_count": 21,
     "metadata": {},
     "output_type": "execute_result"
    }
   ],
   "source": [
    "percentChangeFormula(498, 820)"
   ]
  },
  {
   "cell_type": "markdown",
   "id": "54cf5046",
   "metadata": {},
   "source": [
    "### SD Formula\n",
    "* p1 = unknown\n",
    "* n1 = Value\n",
    "* p2 = unknown & != p1\n",
    "* n2 = Value & != n2\n",
    "* variance = v\n",
    "    * v1 = (p1 * (1 - p1)) / n1\n",
    "    * v2 = (p2 * (1 - p2)) / n2\n",
    "    * v = v1 + v2\n",
    "* sd = square root of v"
   ]
  },
  {
   "cell_type": "code",
   "execution_count": 1,
   "id": "bbf63804",
   "metadata": {},
   "outputs": [
    {
     "data": {
      "text/plain": [
       "-692.1219151101336"
      ]
     },
     "execution_count": 1,
     "metadata": {},
     "output_type": "execute_result"
    }
   ],
   "source": [
    "def getVariance(p1, n1, p2, n2) :\n",
    "    v1 = (p1 * (1 - p1)) / n1\n",
    "    v2 = (p2 * (1 - p2)) / n2\n",
    "    v = v1 + v2\n",
    "    return v\n",
    "getVariance(539, 743, 498, 820)"
   ]
  },
  {
   "cell_type": "code",
   "execution_count": 33,
   "id": "abcd1500",
   "metadata": {},
   "outputs": [
    {
     "name": "stdout",
     "output_type": "stream",
     "text": [
      "0.05664967166873033\n"
     ]
    }
   ],
   "source": [
    "import math\n",
    "def getStandardDeviation(v) :\n",
    "    v = -0.003209185300174947\n",
    "    if v < 0 :\n",
    "        v = v * -1\n",
    "    sd = math.sqrt(v)\n",
    "    print(sd)\n",
    "    \n",
    "getStandardDeviation(v)"
   ]
  },
  {
   "cell_type": "code",
   "execution_count": 27,
   "id": "b3410c61",
   "metadata": {},
   "outputs": [
    {
     "data": {
      "text/plain": [
       "-0.003209185300174947"
      ]
     },
     "execution_count": 27,
     "metadata": {},
     "output_type": "execute_result"
    }
   ],
   "source": [
    "getVariance(27.4, 470700, 27.7, 442230)"
   ]
  }
 ],
 "metadata": {
  "kernelspec": {
   "display_name": "Python 3",
   "language": "python",
   "name": "python3"
  },
  "language_info": {
   "codemirror_mode": {
    "name": "ipython",
    "version": 3
   },
   "file_extension": ".py",
   "mimetype": "text/x-python",
   "name": "python",
   "nbconvert_exporter": "python",
   "pygments_lexer": "ipython3",
   "version": "3.8.8"
  }
 },
 "nbformat": 4,
 "nbformat_minor": 5
}
