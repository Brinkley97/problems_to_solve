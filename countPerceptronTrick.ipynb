{
 "cells": [
  {
   "cell_type": "code",
   "execution_count": 42,
   "id": "polar-priority",
   "metadata": {},
   "outputs": [
    {
     "name": "stdout",
     "output_type": "stream",
     "text": [
      "[  3   4 -10]\n",
      "[0.1 0.1 0.1]\n",
      "[ 3.1  4.1 -9.9]\n",
      "determine value = -2.700000000000001\n"
     ]
    }
   ],
   "source": [
    "#count\n",
    "\n",
    "import numpy as np\n",
    "def determine() : \n",
    "    line = np.array([3, 4 ,-10])\n",
    "    learningRate = 0.1\n",
    "    points = np.array([1, 1, 1])\n",
    "    # bias = 1\n",
    "\n",
    "    print(line)\n",
    "    adjustedPoints = learningRate * points\n",
    "    print(adjustedPoints)\n",
    "    newLine = line + adjustedPoints\n",
    "    print(newLine)\n",
    "    # print(np.sum(newLine))\n",
    "\n",
    "    newValue = np.sum(newLine)\n",
    "    print(\"determine value =\", newValue)\n",
    "\n",
    "determine()"
   ]
  },
  {
   "cell_type": "code",
   "execution_count": 44,
   "id": "internal-impression",
   "metadata": {},
   "outputs": [
    {
     "name": "stdout",
     "output_type": "stream",
     "text": [
      "[  3   4 -10]\n",
      "[0.1 0.1 0.1]\n",
      "[ 3.1  4.1 -9.9]\n",
      "determine value = -2.700000000000001\n",
      "[  3   4 -10]\n",
      "[0.1 0.1 0.1]\n",
      "[ 3.1  4.1 -9.9]\n",
      "determine value = -2.700000000000001\n",
      "[  3   4 -10]\n",
      "[0.1 0.1 0.1]\n",
      "[ 3.1  4.1 -9.9]\n",
      "determine value = -2.700000000000001\n"
     ]
    }
   ],
   "source": [
    "count = 0\n",
    "for i in range(0, len(newLine)) :\n",
    "    if newValue <= 0 :\n",
    "        determine()"
   ]
  },
  {
   "cell_type": "code",
   "execution_count": null,
   "id": "spare-senior",
   "metadata": {},
   "outputs": [],
   "source": []
  }
 ],
 "metadata": {
  "kernelspec": {
   "display_name": "Python 3",
   "language": "python",
   "name": "python3"
  },
  "language_info": {
   "codemirror_mode": {
    "name": "ipython",
    "version": 3
   },
   "file_extension": ".py",
   "mimetype": "text/x-python",
   "name": "python",
   "nbconvert_exporter": "python",
   "pygments_lexer": "ipython3",
   "version": "3.7.3"
  }
 },
 "nbformat": 4,
 "nbformat_minor": 5
}
