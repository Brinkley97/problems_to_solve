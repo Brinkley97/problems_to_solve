{
 "cells": [
  {
   "cell_type": "markdown",
   "id": "entire-membrane",
   "metadata": {},
   "source": [
    "# Jupyter Notebook Testing\n",
    "\n",
    "---\n",
    "## Intro\n",
    "- This is the readme\n",
    "\n",
    "---\n",
    "## Next\n",
    "- shift enter will run the command\n",
    "\n",
    "---\n",
    "## Contributors\n",
    "* Detravious J. Brinkley <dbrinkley@claflin.com>\n",
    "\n",
    "---\n",
    "## Run Code\n",
    "1.\tClone Repo\n",
    "2.  Run jupyter server\n",
    "\n",
    "---\n",
    "## License & copyright\n",
    " Copyright 2018-2020 FitToCode. Released under the [FTC](https://fittocode.com) license.\n"
   ]
  },
  {
   "cell_type": "code",
   "execution_count": 1,
   "id": "heard-quality",
   "metadata": {},
   "outputs": [
    {
     "ename": "NameError",
     "evalue": "name 'hey' is not defined",
     "output_type": "error",
     "traceback": [
      "\u001b[0;31m---------------------------------------------------------------------------\u001b[0m",
      "\u001b[0;31mNameError\u001b[0m                                 Traceback (most recent call last)",
      "\u001b[0;32m<ipython-input-1-7aea02175315>\u001b[0m in \u001b[0;36m<module>\u001b[0;34m\u001b[0m\n\u001b[0;32m----> 1\u001b[0;31m \u001b[0mhey\u001b[0m\u001b[0;34m\u001b[0m\u001b[0;34m\u001b[0m\u001b[0m\n\u001b[0m",
      "\u001b[0;31mNameError\u001b[0m: name 'hey' is not defined"
     ]
    }
   ],
   "source": [
    "hey"
   ]
  },
  {
   "cell_type": "markdown",
   "id": "superb-execution",
   "metadata": {},
   "source": [
    "name = input(\"Type your name\")"
   ]
  }
 ],
 "metadata": {
  "kernelspec": {
   "display_name": "Python 3",
   "language": "python",
   "name": "python3"
  },
  "language_info": {
   "codemirror_mode": {
    "name": "ipython",
    "version": 3
   },
   "file_extension": ".py",
   "mimetype": "text/x-python",
   "name": "python",
   "nbconvert_exporter": "python",
   "pygments_lexer": "ipython3",
   "version": "3.7.3"
  }
 },
 "nbformat": 4,
 "nbformat_minor": 5
}
