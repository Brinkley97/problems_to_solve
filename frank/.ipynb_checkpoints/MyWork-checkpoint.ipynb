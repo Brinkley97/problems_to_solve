{
 "cells": [
  {
   "cell_type": "code",
   "execution_count": 1,
   "metadata": {},
   "outputs": [],
   "source": [
    "import re"
   ]
  },
  {
   "cell_type": "code",
   "execution_count": 2,
   "metadata": {},
   "outputs": [],
   "source": [
    "txt = \"\"\"3021R0001011116080120000800005000080000600008000220002200027000420004700067000990009600108001280009800098000860008100050000370004000030000180\"\"\"\n"
   ]
  },
  {
   "cell_type": "code",
   "execution_count": 3,
   "metadata": {},
   "outputs": [
    {
     "name": "stdout",
     "output_type": "stream",
     "text": [
      "['3021', 'R', '0001011116080120000800005000080000600008000220002200027000420004700067000990009600108001280009800098000860008100050000370004000030000180']\n"
     ]
    }
   ],
   "source": [
    "res = re.findall('(\\d+|[A-Za-z]+)', txt)\n",
    "print(res)"
   ]
  },
  {
   "cell_type": "code",
   "execution_count": 21,
   "metadata": {},
   "outputs": [
    {
     "name": "stdout",
     "output_type": "stream",
     "text": [
      "['', '3', '0', '2', '1', 'R', '0', '0', '0', '1', '0', '1', '1', '1', '1', '6', '0', '8', '0', '1', '2', '0', '0', '0', '0', '8', '0', '0', '0', '0', '5', '0', '0', '0', '0', '8', '0', '0', '0', '0', '6', '0', '0', '0', '0', '8', '0', '0', '0', '2', '2', '0', '0', '0', '2', '2', '0', '0', '0', '2', '7', '0', '0', '0', '4', '2', '0', '0', '0', '4', '7', '0', '0', '0', '6', '7', '0', '0', '0', '9', '9', '0', '0', '0', '9', '6', '0', '0', '1', '0', '8', '0', '0', '1', '2', '8', '0', '0', '0', '9', '8', '0', '0', '0', '9', '8', '0', '0', '0', '8', '6', '0', '0', '0', '8', '1', '0', '0', '0', '5', '0', '0', '0', '0', '3', '7', '0', '0', '0', '4', '0', '0', '0', '0', '3', '0', '0', '0', '0', '1', '8', '0', '']\n"
     ]
    }
   ],
   "source": [
    "print(re.split('', txt))"
   ]
  },
  {
   "cell_type": "code",
   "execution_count": 60,
   "metadata": {},
   "outputs": [
    {
     "name": "stdout",
     "output_type": "stream",
     "text": [
      "['', '3021R0001011116080120000800005000080000600008000220002200027000420004700067000990009600108001280009800098000860008100050000370004000030000180']\n",
      "3\n",
      "['', '3', '021R0001011116080120000800005000080000600008000220002200027000420004700067000990009600108001280009800098000860008100050000370004000030000180']\n",
      "0\n",
      "['', '3', '0', '21R0001011116080120000800005000080000600008000220002200027000420004700067000990009600108001280009800098000860008100050000370004000030000180']\n",
      "2\n",
      "['', '3', '0', '2', '1R0001011116080120000800005000080000600008000220002200027000420004700067000990009600108001280009800098000860008100050000370004000030000180']\n",
      "1\n",
      "['', '3', '0', '2', '1', 'R0001011116080120000800005000080000600008000220002200027000420004700067000990009600108001280009800098000860008100050000370004000030000180']\n",
      "R\n",
      "['', '3', '0', '2', '1', 'R', '0001011116080120000800005000080000600008000220002200027000420004700067000990009600108001280009800098000860008100050000370004000030000180']\n",
      "0\n",
      "['', '3', '0', '2', '1', 'R', '0', '001011116080120000800005000080000600008000220002200027000420004700067000990009600108001280009800098000860008100050000370004000030000180']\n",
      "0\n",
      "['', '3', '0', '2', '1', 'R', '0', '0', '01011116080120000800005000080000600008000220002200027000420004700067000990009600108001280009800098000860008100050000370004000030000180']\n",
      "0\n",
      "['', '3', '0', '2', '1', 'R', '0', '0', '0', '1011116080120000800005000080000600008000220002200027000420004700067000990009600108001280009800098000860008100050000370004000030000180']\n",
      "1\n",
      "['', '3', '0', '2', '1', 'R', '0', '0', '0', '1', '011116080120000800005000080000600008000220002200027000420004700067000990009600108001280009800098000860008100050000370004000030000180']\n",
      "0\n",
      "['', '3', '0', '2', '1', 'R', '0', '0', '0', '1', '0', '11116080120000800005000080000600008000220002200027000420004700067000990009600108001280009800098000860008100050000370004000030000180']\n",
      "1\n",
      "['', '3', '0', '2', '1', 'R', '0', '0', '0', '1', '0', '1', '1116080120000800005000080000600008000220002200027000420004700067000990009600108001280009800098000860008100050000370004000030000180']\n",
      "1\n"
     ]
    }
   ],
   "source": [
    "\n",
    "print(re.split('', txt, maxsplit=1))\n",
    "print(txt[0])\n",
    "\n",
    "print(re.split('', txt, maxsplit=2))\n",
    "print(txt[1])\n",
    "\n",
    "print(re.split('', txt, maxsplit=3))\n",
    "print(txt[2])\n",
    "\n",
    "print(re.split('', txt, maxsplit=4))\n",
    "print(txt[3])\n",
    "print(re.split('', txt, maxsplit=5))\n",
    "print(txt[4])\n",
    "print(re.split('', txt, maxsplit=6))\n",
    "print(txt[5])\n",
    "print(re.split('', txt, maxsplit=7))\n",
    "print(txt[6])\n",
    "print(re.split('', txt, maxsplit=8))\n",
    "print(txt[7])\n",
    "print(re.split('', txt, maxsplit=9))\n",
    "print(txt[8])\n",
    "print(re.split('', txt, maxsplit=10))\n",
    "print(txt[9])\n",
    "print(re.split('', txt, maxsplit=11))\n",
    "print(txt[10])\n",
    "print(re.split('', txt, maxsplit=12))\n",
    "print(txt[11])\n",
    "\n",
    "print(re.split('', txt, maxsplit=13))\n",
    "print(txt[12])\n",
    "\n",
    "print(re.split('', txt, maxsplit=14))\n",
    "print(txt[13])\n",
    "\n",
    "print(re.split('', txt, maxsplit=15))\n",
    "print(txt[14])\n",
    "\n",
    "print(re.split('', txt, maxsplit=16))\n",
    "print(txt[15])\n",
    "print(re.split('', txt, maxsplit=17))\n",
    "print(txt[16])\n",
    "print(re.split('', txt, maxsplit=18))\n",
    "print(txt[17])\n",
    "print(re.split('', txt, maxsplit=7))\n",
    "print(txt[6])\n",
    "print(re.split('', txt, maxsplit=8))\n",
    "print(txt[7])\n",
    "print(re.split('', txt, maxsplit=9))\n",
    "print(txt[8])\n",
    "print(re.split('', txt, maxsplit=10))\n",
    "print(txt[9])\n",
    "print(re.split('', txt, maxsplit=11))\n",
    "print(txt[10])\n",
    "print(re.split('', txt, maxsplit=12))\n",
    "print(txt[11])"
   ]
  },
  {
   "cell_type": "code",
   "execution_count": 48,
   "metadata": {},
   "outputs": [
    {
     "name": "stdout",
     "output_type": "stream",
     "text": [
      "('3', '0', '2', '1', 'R', '0', '0', '0', '1', '0', '1', '1', '1')\n"
     ]
    }
   ],
   "source": [
    "frank = txt[0],txt[1],txt[2],txt[3],txt[4],txt[5],txt[6],txt[7],txt[8],txt[9],txt[10],txt[11],txt[12]\n",
    "print(frank)"
   ]
  },
  {
   "cell_type": "code",
   "execution_count": 20,
   "metadata": {},
   "outputs": [
    {
     "data": {
      "text/plain": [
       "['', '']"
      ]
     },
     "execution_count": 20,
     "metadata": {},
     "output_type": "execute_result"
    }
   ],
   "source": [
    "pattern = re.compile(\"\\n\")\n",
    "pattern = re.compile(\"\\W\")\n",
    "pattern.split(txt)\n",
    "txt.split(txt, maxsplit=3)"
   ]
  },
  {
   "cell_type": "code",
   "execution_count": 18,
   "metadata": {},
   "outputs": [],
   "source": [
    "list(filter(lambda x: x!='', pattern.split(txt)))"
   ]
  },
  {
   "cell_type": "code",
   "execution_count": 16,
   "metadata": {},
   "outputs": [
    {
     "data": {
      "text/plain": [
       "['', '']"
      ]
     },
     "execution_count": 16,
     "metadata": {},
     "output_type": "execute_result"
    }
   ],
   "source": [
    "txt.split(txt, maxsplit=3)"
   ]
  },
  {
   "cell_type": "code",
   "execution_count": 10,
   "metadata": {},
   "outputs": [
    {
     "name": "stdout",
     "output_type": "stream",
     "text": [
      "9 8 7 6 5 4 3 2 1\n"
     ]
    }
   ],
   "source": [
    "number1 = 123456789\n",
    "#number = 3021R0001011116080120000800005000080000600008000220002200027000420004700067000990009600108001280009800098000860008100050000370004000030000180\n",
    "digits = []\n",
    "while number1 > 0:\n",
    "        digits.append(number1 % 10)\n",
    "        number1 = (number1 - number1 % 10)//10\n",
    "print(*digits)"
   ]
  },
  {
   "cell_type": "code",
   "execution_count": null,
   "metadata": {},
   "outputs": [],
   "source": []
  }
 ],
 "metadata": {
  "kernelspec": {
   "display_name": "Python 3",
   "language": "python",
   "name": "python3"
  },
  "language_info": {
   "codemirror_mode": {
    "name": "ipython",
    "version": 3
   },
   "file_extension": ".py",
   "mimetype": "text/x-python",
   "name": "python",
   "nbconvert_exporter": "python",
   "pygments_lexer": "ipython3",
   "version": "3.7.6"
  }
 },
 "nbformat": 4,
 "nbformat_minor": 4
}
