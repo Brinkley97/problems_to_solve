{
 "cells": [
  {
   "cell_type": "code",
   "execution_count": 3,
   "id": "2fb08961-fe8b-4d8a-b241-0294322f4302",
   "metadata": {},
   "outputs": [],
   "source": [
    "import matplotlib.pyplot as plt"
   ]
  },
  {
   "cell_type": "markdown",
   "id": "65d36a86-c240-4c25-babf-5af41ec3fc19",
   "metadata": {},
   "source": [
    "# Data"
   ]
  },
  {
   "cell_type": "code",
   "execution_count": 136,
   "id": "fdb02630-829a-44d6-af8b-ddc32ce205d9",
   "metadata": {},
   "outputs": [
    {
     "data": {
      "image/png": "[encoded data removed]",
      "text/plain": [
       "<Figure size 432x288 with 1 Axes>"
      ]
     },
     "metadata": {
      "needs_background": "light"
     },
     "output_type": "display_data"
    }
   ],
   "source": [
    "point_1 = [5, 10]\n",
    "point_2 = [10, 15]\n",
    "\n",
    "x = [point_1[0], point_2[0]]\n",
    "y = [point_1[1], point_2[1]]\n",
    "\n",
    "plt.plot(x, y, 'ro')\n",
    "plt.xlabel('x')\n",
    "plt.ylabel('y')\n",
    "\n",
    "# + 1 is to change the location of the text\n",
    "plt.text(point_1[0], point_1[1] + 1, \"Point 1\")\n",
    "plt.text(point_2[0], point_2[1] + 1, \"Point 2\")\n",
    "\n",
    "plt.axis([0, 15, 0, 20])\n",
    "plt.show()"
   ]
  },
  {
   "cell_type": "markdown",
   "id": "a9f68f39-f448-4311-957a-4ecda70aba3e",
   "metadata": {},
   "source": [
    "# Linear Interpolation"
   ]
  },
  {
   "cell_type": "code",
   "execution_count": 137,
   "id": "0734c8ff-2a4d-489a-916a-956905cd93f3",
   "metadata": {},
   "outputs": [
    {
     "name": "stdout",
     "output_type": "stream",
     "text": [
      "delta_y :  5\n",
      "delta_x :  5\n",
      "slope :  1.0\n"
     ]
    }
   ],
   "source": [
    "delta_y = y[1] - y[0]\n",
    "print(\"delta_y : \", delta_y)\n",
    "\n",
    "delta_x = x[1] - x[0]\n",
    "print(\"delta_x : \", delta_x)\n",
    "\n",
    "slope = delta_y / delta_x\n",
    "print(\"slope : \", slope)\n",
    "\n",
    "# linear_interpolation = delta_y / delta_x\n",
    "# print(\"linear_interpolation : \", linear_interpolation)"
   ]
  },
  {
   "cell_type": "code",
   "execution_count": 144,
   "id": "7c7e4aad-6010-4e1e-a936-4c89d260d056",
   "metadata": {},
   "outputs": [
    {
     "name": "stdout",
     "output_type": "stream",
     "text": [
      "linear_interpolant :  [1.0, 0.0]\n"
     ]
    }
   ],
   "source": [
    "# interp_y = y[0] + (slope - x[0]) * slope\n",
    "# print(\"interp_y : \", interp_y)\n",
    "\n",
    "# # interp_y = (y[0] * (x[1] - slope)) + (y[1] * (slope - x[0])) / delta_x\n",
    "\n",
    "interp_y = ((x[1] - slope) / (x[1] - x[0]) * y[0]) + ((x[0] - slope) / (x[0] - x[1]) * y[1])\n",
    "\n",
    "# interp_y = y[0] * (1 - (slope - x[0]) / (x[1] - x[0])) + y[1] * (1 - (slope - x[0]) / (x[1] - x[0]))\n",
    "\n",
    "linear_interpolant = [slope, interp_y]\n",
    "print(\"linear_interpolant : \", linear_interpolant)"
   ]
  },
  {
   "cell_type": "markdown",
   "id": "4ff683ca-16d1-4b45-827b-38e937a195f1",
   "metadata": {},
   "source": [
    "### I dont think the graph is correct. Play around w/ the forumalas above from [Wiki](https://en.wikipedia.org/wiki/Linear_interpolation) & [here](https://www.johndcook.com/interpolatorhelp.html)"
   ]
  },
  {
   "cell_type": "code",
   "execution_count": 145,
   "id": "b1652cac-048f-49fc-aff2-7f6849d3924a",
   "metadata": {},
   "outputs": [
    {
     "data": {
      "image/png": "[encoded data removed]",
      "text/plain": [
       "<Figure size 432x288 with 1 Axes>"
      ]
     },
     "metadata": {
      "needs_background": "light"
     },
     "output_type": "display_data"
    }
   ],
   "source": [
    "x = [point_1[0], linear_interpolant[0], point_2[0]]\n",
    "y = [point_1[1], linear_interpolant[1], point_2[1]]\n",
    "\n",
    "plt.plot(x, y, 'ro')\n",
    "plt.xlabel('x')\n",
    "plt.ylabel('y')\n",
    "\n",
    "# + 1 is to change the location of the text\n",
    "plt.text(point_1[0], point_1[1] + 1, \"Point 1\")\n",
    "plt.text(point_2[0], point_2[1] + 1, \"Point 2\")\n",
    "plt.text(linear_interpolant[0], linear_interpolant[1] + 1, \"linear_interpolant\")\n",
    "\n",
    "plt.axis([0, 15, 0, 20])\n",
    "plt.show()"
   ]
  },
  {
   "cell_type": "code",
   "execution_count": null,
   "id": "9965bef4-d1b6-48c0-877e-f874e25d2c5e",
   "metadata": {},
   "outputs": [],
   "source": []
  },
  {
   "cell_type": "code",
   "execution_count": null,
   "id": "885b940e-3d7b-4880-a1ab-be00c80e5ab8",
   "metadata": {},
   "outputs": [],
   "source": []
  }
 ],
 "metadata": {
  "kernelspec": {
   "display_name": "Python 3 (ipykernel)",
   "language": "python",
   "name": "python3"
  },
  "language_info": {
   "codemirror_mode": {
    "name": "ipython",
    "version": 3
   },
   "file_extension": ".py",
   "mimetype": "text/x-python",
   "name": "python",
   "nbconvert_exporter": "python",
   "pygments_lexer": "ipython3",
   "version": "3.9.7"
  }
 },
 "nbformat": 4,
 "nbformat_minor": 5
}
