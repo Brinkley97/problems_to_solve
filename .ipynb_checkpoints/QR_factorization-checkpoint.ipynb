{
 "cells": [
  {
   "cell_type": "markdown",
   "id": "37dee683",
   "metadata": {},
   "source": [
    "1. Refer to lin_alg_for_ml_by_ja_br | ch14"
   ]
  },
  {
   "cell_type": "code",
   "execution_count": 10,
   "id": "a05a934e",
   "metadata": {},
   "outputs": [],
   "source": [
    "import numpy as np"
   ]
  },
  {
   "cell_type": "markdown",
   "id": "aa77171a",
   "metadata": {},
   "source": [
    "# Formula \n",
    "A = Q dot R"
   ]
  },
  {
   "cell_type": "code",
   "execution_count": 11,
   "id": "a8dd7fda",
   "metadata": {},
   "outputs": [
    {
     "name": "stdout",
     "output_type": "stream",
     "text": [
      "D.shape :  (3, 3) \n",
      "D : \n",
      " [[2 3 5]\n",
      " [0 4 6]\n",
      " [0 0 7]]\n",
      "\n",
      "#### FACTOR - DECMOP ####\n",
      "\n",
      ">> Q.shape :  (3, 3) \n",
      ">> Q : \n",
      " [[1 0 0]\n",
      " [0 1 0]\n",
      " [0 0 1]] \n",
      "\n",
      ">> R.shape :  (3, 3) \n",
      ">> R : \n",
      " [[2 3 5]\n",
      " [0 4 6]\n",
      " [0 0 7]]\n",
      "\n",
      "#### RECONSTRUCT ####\n",
      "\n",
      ">> Q_dot_R.shape :  (3, 3) \n",
      ">> Q_dot_R : \n",
      " [[2 3 5]\n",
      " [0 4 6]\n",
      " [0 0 7]]\n"
     ]
    }
   ],
   "source": [
    "# 3 x 2 square Matrix\n",
    "D = np.array([\n",
    "             [2, 3, 5],\n",
    "             [0, 4, 6],\n",
    "             [0, 0, 7]\n",
    "             ])\n",
    "print(\"D.shape : \", D.shape, \"\\nD : \\n\", D)\n",
    "\n",
    "print(\"\\n#### FACTOR - DECMOP ####\")\n",
    "\n",
    "Q = np.array([\n",
    "             [1, 0, 0],\n",
    "             [0, 1, 0],\n",
    "             [0, 0, 1]\n",
    "             ])\n",
    "\n",
    "R = np.array([\n",
    "             [2, 3, 5],\n",
    "             [0, 4, 6],\n",
    "             [0, 0, 7]\n",
    "             ])\n",
    "print(\"\\n>> Q.shape : \", Q.shape, \"\\n>> Q : \\n\", Q, \n",
    "      \"\\n\\n>> R.shape : \", R.shape, \"\\n>> R : \\n\", R, \n",
    "     )\n",
    "\n",
    "print(\"\\n#### RECONSTRUCT ####\")\n",
    "Q_dot_R = np.dot(Q, R)\n",
    "print(\"\\n>> Q_dot_R.shape : \", Q_dot_R.shape, \"\\n>> Q_dot_R : \\n\", Q_dot_R)"
   ]
  },
  {
   "cell_type": "markdown",
   "id": "13c096a3",
   "metadata": {},
   "source": [
    "### Extra calcs"
   ]
  },
  {
   "cell_type": "code",
   "execution_count": 12,
   "id": "b1f10967",
   "metadata": {},
   "outputs": [
    {
     "name": "stdout",
     "output_type": "stream",
     "text": [
      "R : \n",
      " [[35.287 42.402]\n",
      " [-0.516  0.14 ]]\n",
      "\n",
      " Q_dot_R : \n",
      " [[  0.560471   1.355238]\n",
      " [  2.981018   3.661132]\n",
      " [247.18702  296.7657  ]]\n"
     ]
    }
   ],
   "source": [
    "D = np.array([\n",
    "             [1, 2],\n",
    "             [3, 4],\n",
    "             [5, 6]\n",
    "             ])\n",
    "\n",
    "Q = np.array([\n",
    "             [0.029, 0.897],\n",
    "             [0.086, 0.104],\n",
    "             [7, -0.345]\n",
    "             ])\n",
    "\n",
    "R = np.dot(np.transpose(Q), D)\n",
    "print(\"R : \\n\", R)\n",
    "\n",
    "Q_dot_R = np.dot(Q, R)\n",
    "print(\"\\n Q_dot_R : \\n\", Q_dot_R)"
   ]
  },
  {
   "cell_type": "markdown",
   "id": "e512c2a7",
   "metadata": {},
   "source": [
    "### Inner calcs\n",
    "- Q = [q1, q2, q3]\n",
    "- q1 = A / || A || \n",
    "- q2 = B / || B || \n",
    "- q3 = C / || C || \n",
    "\n",
    "- A = a\n",
    "- B = b - proj of b onto a ==> [b - (A^T dot b) / (A^T dot A)) dot A]"
   ]
  },
  {
   "cell_type": "code",
   "execution_count": 45,
   "id": "63104d93",
   "metadata": {},
   "outputs": [
    {
     "name": "stdout",
     "output_type": "stream",
     "text": [
      "\n",
      "proj_a_b :  [1.25714286 3.77142857 6.28571429]\n",
      "\n",
      "B :  [ 0.74285714  0.22857143 -0.28571429]\n"
     ]
    }
   ],
   "source": [
    "D = np.array([\n",
    "             [1, 2],\n",
    "             [3, 4],\n",
    "             [5, 6]\n",
    "             ])\n",
    "\n",
    "a = D[ :, 0]\n",
    "b = D[ :, 1]\n",
    "# print(\"a : \", a, \"\\nb : \", b)\n",
    "\n",
    "A = a\n",
    "# print(\"A : \",A)\n",
    "\n",
    "proj_a_b = np.dot(np.dot(np.transpose(A), b) / np.dot(np.transpose(A), A), A)\n",
    "print(\"\\nproj_a_b : \", proj_a_b)\n",
    "\n",
    "B = b - proj_a_b\n",
    "print(\"\\nB : \", B)"
   ]
  },
  {
   "cell_type": "code",
   "execution_count": 17,
   "id": "ed7e7f0e",
   "metadata": {},
   "outputs": [
    {
     "name": "stdout",
     "output_type": "stream",
     "text": [
      "ele_of_A :  5.916079783099616\n",
      "q1 :  [0.16903085 0.50709255 0.84515425]\n",
      "\n",
      "q2 :  [ 0.89708523  0.27602622 -0.34503278]\n"
     ]
    }
   ],
   "source": [
    "ele_of_A = np.sqrt(np.sum(np.square(a)))\n",
    "print(\"ele_of_A : \", ele_of_A)\n",
    "\n",
    "q1 = A / ele_of_A \n",
    "print(\"q1 : \", q1)\n",
    "\n",
    "ele_of_B = np.sqrt(np.sum(np.square(B)))\n",
    "q2 = B / ele_of_B\n",
    "print(\"\\nq2 : \", q2)\n",
    "\n",
    "\n"
   ]
  },
  {
   "cell_type": "code",
   "execution_count": 44,
   "id": "34cdd9dc",
   "metadata": {},
   "outputs": [
    {
     "name": "stdout",
     "output_type": "stream",
     "text": [
      "new_Q :  []\n",
      "\n",
      "n_Q.shape :  (2, 3) \n",
      "n_Q :  [[ 0.16903085  0.50709255  0.84515425]\n",
      " [ 0.89708523  0.27602622 -0.34503278]]\n",
      "\n",
      "n_Q_T.shape :  (3, 2) \n",
      "n_Q_T :  [[ 0.16903085  0.89708523]\n",
      " [ 0.50709255  0.27602622]\n",
      " [ 0.84515425 -0.34503278]]\n"
     ]
    }
   ],
   "source": [
    "# store q1 & q2 in new arr\n",
    "# new_Q = []\n",
    "\n",
    "# new_Q.append(q1)\n",
    "# new_Q.append(q2)\n",
    "\n",
    "# n_Q = np.array([new_Q])\n",
    "# print(\"new_Q : \", new_Q)\n",
    "# print(\"\\nn_Q.shape : \", n_Q.shape, \"\\nn_Q : \", n_Q)\n",
    "\n",
    "# n_Q.flatten\n",
    "# print(\"\\nn_Q.shape : \", n_Q.shape, \"\\nn_Q : \", n_Q)\n",
    "\n",
    "# ---\n",
    "new_Q = np.array([])\n",
    "print(\"new_Q : \", new_Q)\n",
    "\n",
    "# new_Q[ :, 0] = q1\n",
    "# # new_Q[ :, 1] = q2\n",
    "# print(\"new_Q : \", new_Q)\n",
    "\n",
    "n_Q = np.vstack((q1, q2))\n",
    "print(\"\\nn_Q.shape : \", n_Q.shape, \"\\nn_Q : \", n_Q)\n",
    "\n",
    "n_Q_T = np.transpose(n_Q)\n",
    "print(\"\\nn_Q_T.shape : \", n_Q_T.shape, \"\\nn_Q_T : \", n_Q_T)\n"
   ]
  },
  {
   "cell_type": "markdown",
   "id": "f69240a5",
   "metadata": {},
   "source": [
    "# Formula\n",
    "R = Q dot D"
   ]
  },
  {
   "cell_type": "code",
   "execution_count": 47,
   "id": "d92e14be",
   "metadata": {},
   "outputs": [
    {
     "name": "stdout",
     "output_type": "stream",
     "text": [
      "R :  [[5.91607978e+00 7.43735744e+00]\n",
      " [1.11022302e-15 8.28078671e-01]]\n"
     ]
    }
   ],
   "source": [
    "R = np.dot(n_Q, D)\n",
    "print(\"R : \", R)"
   ]
  },
  {
   "cell_type": "code",
   "execution_count": 49,
   "id": "2c3f9282",
   "metadata": {},
   "outputs": [
    {
     "name": "stdout",
     "output_type": "stream",
     "text": [
      "A :  [[1. 2.]\n",
      " [3. 4.]\n",
      " [5. 6.]]\n"
     ]
    }
   ],
   "source": [
    "A = np.dot(n_Q_T, R)\n",
    "print(\"A : \", A)"
   ]
  },
  {
   "cell_type": "code",
   "execution_count": null,
   "id": "b7167283",
   "metadata": {},
   "outputs": [],
   "source": []
  }
 ],
 "metadata": {
  "kernelspec": {
   "display_name": "Python 3",
   "language": "python",
   "name": "python3"
  },
  "language_info": {
   "codemirror_mode": {
    "name": "ipython",
    "version": 3
   },
   "file_extension": ".py",
   "mimetype": "text/x-python",
   "name": "python",
   "nbconvert_exporter": "python",
   "pygments_lexer": "ipython3",
   "version": "3.7.5"
  }
 },
 "nbformat": 4,
 "nbformat_minor": 5
}
