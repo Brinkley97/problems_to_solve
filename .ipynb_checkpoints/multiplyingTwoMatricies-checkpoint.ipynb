{
 "cells": [
  {
   "cell_type": "markdown",
   "id": "a1a6e9d2",
   "metadata": {},
   "source": [
    "# Multiply 2 Matricies\n",
    "* Fri, June 5, 2021\n",
    "* Curiosity on how to do it"
   ]
  },
  {
   "cell_type": "code",
   "execution_count": 47,
   "id": "f2cd57ce",
   "metadata": {},
   "outputs": [
    {
     "name": "stdout",
     "output_type": "stream",
     "text": [
      "2\n"
     ]
    }
   ],
   "source": [
    "array1 = [[1, 1], [1, 1]]\n",
    "array2 = [[1, 1], [1, 1]]\n",
    "array3 = []\n",
    "setToZero = 0\n",
    "add = 0 \n",
    "for a in range(len(array1)) :\n",
    "#     print(array1[0])\n",
    "    for b in range(len(array2)) :\n",
    "#         print(array2[0])\n",
    "        array3 = (array1[a][a] * array2[b][b]) + (array1[a][a] * array2[b][b])\n",
    "        add = add + 1\n",
    "    add = 0\n",
    "print(array3)"
   ]
  },
  {
   "cell_type": "code",
   "execution_count": 44,
   "id": "391fc6d6",
   "metadata": {},
   "outputs": [
    {
     "name": "stdout",
     "output_type": "stream",
     "text": [
      "[[2 2]\n",
      " [2 2]]\n"
     ]
    }
   ],
   "source": [
    "import numpy as np\n",
    "\n",
    "array1 = [[1, 1], [1, 1]]\n",
    "array2 = [[1, 1], [1, 1]]\n",
    "# size = np.shape(array1)\n",
    "ans = np.dot(array1, array2)\n",
    "print(ans)"
   ]
  },
  {
   "cell_type": "code",
   "execution_count": null,
   "id": "5825cb56",
   "metadata": {},
   "outputs": [],
   "source": []
  }
 ],
 "metadata": {
  "kernelspec": {
   "display_name": "Python 3",
   "language": "python",
   "name": "python3"
  },
  "language_info": {
   "codemirror_mode": {
    "name": "ipython",
    "version": 3
   },
   "file_extension": ".py",
   "mimetype": "text/x-python",
   "name": "python",
   "nbconvert_exporter": "python",
   "pygments_lexer": "ipython3",
   "version": "3.9.5"
  }
 },
 "nbformat": 4,
 "nbformat_minor": 5
}
