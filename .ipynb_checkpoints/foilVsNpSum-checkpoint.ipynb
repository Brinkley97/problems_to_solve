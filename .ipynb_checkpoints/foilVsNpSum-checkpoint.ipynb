{
 "cells": [
  {
   "cell_type": "markdown",
   "id": "ef99130d-4294-4187-9192-35a9bd99faaf",
   "metadata": {},
   "source": [
    "# FOIL, np.sum\n",
    "- I was thinking about xyz... which can be found [here](https://github.com/Brinkley97/book-forecasting_and_control/blob/main/part_1/2-autocorrelation_func_and_spectrum_of_stationary_process/exercises/2.5.ipynb)"
   ]
  },
  {
   "cell_type": "code",
   "execution_count": 1,
   "id": "03b8fcd3-f9a0-4bda-8b4d-adb9d68b5077",
   "metadata": {},
   "outputs": [],
   "source": [
    "import numpy as np"
   ]
  },
  {
   "cell_type": "code",
   "execution_count": 2,
   "id": "afad5643-cbad-4045-893e-ded9e12f9aa8",
   "metadata": {},
   "outputs": [],
   "source": [
    "a = 5\n",
    "b = 5\n",
    "c = 5\n",
    "d = 5"
   ]
  },
  {
   "cell_type": "code",
   "execution_count": 3,
   "id": "0326c674-784b-4ea5-a6b3-64b91c9578ae",
   "metadata": {},
   "outputs": [
    {
     "data": {
      "text/plain": [
       "-25"
      ]
     },
     "execution_count": 3,
     "metadata": {},
     "output_type": "execute_result"
    }
   ],
   "source": [
    "np.sum(a - b * c - d)"
   ]
  },
  {
   "cell_type": "code",
   "execution_count": 4,
   "id": "e939a5af-6ed8-4a3f-8500-38a1dd6fc367",
   "metadata": {},
   "outputs": [
    {
     "data": {
      "text/plain": [
       "-25"
      ]
     },
     "execution_count": 4,
     "metadata": {},
     "output_type": "execute_result"
    }
   ],
   "source": [
    "a - b * c - d"
   ]
  },
  {
   "cell_type": "code",
   "execution_count": 5,
   "id": "e0ea2bfc-7df6-4476-ad43-45446fba71a4",
   "metadata": {},
   "outputs": [
    {
     "data": {
      "text/plain": [
       "0"
      ]
     },
     "execution_count": 5,
     "metadata": {},
     "output_type": "execute_result"
    }
   ],
   "source": [
    "(a - b) * (c - d)"
   ]
  },
  {
   "cell_type": "code",
   "execution_count": 6,
   "id": "a162066f-3bf8-409f-b332-0c1d47b1e1a7",
   "metadata": {},
   "outputs": [
    {
     "data": {
      "text/plain": [
       "0"
      ]
     },
     "execution_count": 6,
     "metadata": {},
     "output_type": "execute_result"
    }
   ],
   "source": [
    "np.sum((a - b) * (c - d))"
   ]
  },
  {
   "cell_type": "code",
   "execution_count": null,
   "id": "dc9cd9c3-9b11-43be-bf6d-5e18779568fe",
   "metadata": {},
   "outputs": [],
   "source": []
  }
 ],
 "metadata": {
  "kernelspec": {
   "display_name": "Python 3",
   "language": "python",
   "name": "python3"
  },
  "language_info": {
   "codemirror_mode": {
    "name": "ipython",
    "version": 3
   },
   "file_extension": ".py",
   "mimetype": "text/x-python",
   "name": "python",
   "nbconvert_exporter": "python",
   "pygments_lexer": "ipython3",
   "version": "3.7.5"
  }
 },
 "nbformat": 4,
 "nbformat_minor": 5
}
