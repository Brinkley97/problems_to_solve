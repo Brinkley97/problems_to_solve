{
 "cells": [
  {
   "cell_type": "markdown",
   "id": "0ac87d07-d0fa-4cf4-86c5-299ad5947502",
   "metadata": {},
   "source": [
    "# Rate of Growth and Vision vs No Vision\n",
    "\n",
    "Book: P12 of The Art of Doing Science and Engineering by Richard W. Hamming"
   ]
  },
  {
   "cell_type": "code",
   "execution_count": 1,
   "id": "052a61a7-40a7-47de-8d22-e493f081acfa",
   "metadata": {},
   "outputs": [],
   "source": [
    "import numpy as np\n",
    "import pandas as pd"
   ]
  },
  {
   "cell_type": "code",
   "execution_count": 2,
   "id": "f072c648-59a5-499c-88a3-a0d854793545",
   "metadata": {},
   "outputs": [],
   "source": [
    "def vision_vs_no_vision(visions):\n",
    "    data_set = []\n",
    "    for vision in visions:\n",
    "    \n",
    "        no_vision = np.sqrt(vision)\n",
    "        data = [vision, no_vision]\n",
    "        # print(data)\n",
    "        data_set.append(data)\n",
    "        # print(data_set)\n",
    "        growth_vs_no_growth_data = pd.DataFrame(data_set, columns=[\"growth rate with vision\", \"growth rate with NO vision\"])\n",
    "        copy_of_data = growth_vs_no_growth_data.copy()\n",
    "        \n",
    "    return copy_of_data"
   ]
  },
  {
   "cell_type": "code",
   "execution_count": 3,
   "id": "74efe225-b700-4365-b043-4841a878401d",
   "metadata": {},
   "outputs": [
    {
     "data": {
      "text/html": [
       "<div>\n",
       "<style scoped>\n",
       "    .dataframe tbody tr th:only-of-type {\n",
       "        vertical-align: middle;\n",
       "    }\n",
       "\n",
       "    .dataframe tbody tr th {\n",
       "        vertical-align: top;\n",
       "    }\n",
       "\n",
       "    .dataframe thead th {\n",
       "        text-align: right;\n",
       "    }\n",
       "</style>\n",
       "<table border=\"1\" class=\"dataframe\">\n",
       "  <thead>\n",
       "    <tr style=\"text-align: right;\">\n",
       "      <th></th>\n",
       "      <th>growth rate with vision</th>\n",
       "      <th>growth rate with NO vision</th>\n",
       "    </tr>\n",
       "  </thead>\n",
       "  <tbody>\n",
       "    <tr>\n",
       "      <th>0</th>\n",
       "      <td>0</td>\n",
       "      <td>0.000000</td>\n",
       "    </tr>\n",
       "    <tr>\n",
       "      <th>1</th>\n",
       "      <td>1</td>\n",
       "      <td>1.000000</td>\n",
       "    </tr>\n",
       "    <tr>\n",
       "      <th>2</th>\n",
       "      <td>2</td>\n",
       "      <td>1.414214</td>\n",
       "    </tr>\n",
       "    <tr>\n",
       "      <th>3</th>\n",
       "      <td>3</td>\n",
       "      <td>1.732051</td>\n",
       "    </tr>\n",
       "    <tr>\n",
       "      <th>4</th>\n",
       "      <td>4</td>\n",
       "      <td>2.000000</td>\n",
       "    </tr>\n",
       "    <tr>\n",
       "      <th>5</th>\n",
       "      <td>5</td>\n",
       "      <td>2.236068</td>\n",
       "    </tr>\n",
       "    <tr>\n",
       "      <th>6</th>\n",
       "      <td>6</td>\n",
       "      <td>2.449490</td>\n",
       "    </tr>\n",
       "    <tr>\n",
       "      <th>7</th>\n",
       "      <td>7</td>\n",
       "      <td>2.645751</td>\n",
       "    </tr>\n",
       "    <tr>\n",
       "      <th>8</th>\n",
       "      <td>8</td>\n",
       "      <td>2.828427</td>\n",
       "    </tr>\n",
       "    <tr>\n",
       "      <th>9</th>\n",
       "      <td>9</td>\n",
       "      <td>3.000000</td>\n",
       "    </tr>\n",
       "    <tr>\n",
       "      <th>10</th>\n",
       "      <td>10</td>\n",
       "      <td>3.162278</td>\n",
       "    </tr>\n",
       "    <tr>\n",
       "      <th>11</th>\n",
       "      <td>11</td>\n",
       "      <td>3.316625</td>\n",
       "    </tr>\n",
       "    <tr>\n",
       "      <th>12</th>\n",
       "      <td>12</td>\n",
       "      <td>3.464102</td>\n",
       "    </tr>\n",
       "  </tbody>\n",
       "</table>\n",
       "</div>"
      ],
      "text/plain": [
       "    growth rate with vision  growth rate with NO vision\n",
       "0                         0                    0.000000\n",
       "1                         1                    1.000000\n",
       "2                         2                    1.414214\n",
       "3                         3                    1.732051\n",
       "4                         4                    2.000000\n",
       "5                         5                    2.236068\n",
       "6                         6                    2.449490\n",
       "7                         7                    2.645751\n",
       "8                         8                    2.828427\n",
       "9                         9                    3.000000\n",
       "10                       10                    3.162278\n",
       "11                       11                    3.316625\n",
       "12                       12                    3.464102"
      ]
     },
     "execution_count": 3,
     "metadata": {},
     "output_type": "execute_result"
    }
   ],
   "source": [
    "# visions = [1, 2]\n",
    "visions = range(0, 13)\n",
    "vision_data = vision_vs_no_vision(visions)\n",
    "vision_data"
   ]
  },
  {
   "cell_type": "code",
   "execution_count": 4,
   "id": "9e77c173-5713-4995-80ea-21c305928e90",
   "metadata": {},
   "outputs": [
    {
     "data": {
      "text/plain": [
       "<matplotlib.axes._subplots.AxesSubplot at 0x7fd940dd2fd0>"
      ]
     },
     "execution_count": 4,
     "metadata": {},
     "output_type": "execute_result"
    },
    {
     "data": {
      "image/png": "[encoded data removed]",
      "text/plain": [
       "<Figure size 432x288 with 1 Axes>"
      ]
     },
     "metadata": {
      "needs_background": "light"
     },
     "output_type": "display_data"
    }
   ],
   "source": [
    "vision_data.plot()"
   ]
  },
  {
   "cell_type": "markdown",
   "id": "2e432eef-d254-40ac-8c36-72334b5ed49f",
   "metadata": {},
   "source": [
    "---\n",
    "# Growth Rate"
   ]
  },
  {
   "cell_type": "code",
   "execution_count": 5,
   "id": "c68a2a0e-044d-44cd-8662-a4373c87bb47",
   "metadata": {},
   "outputs": [],
   "source": [
    "MONTHS_IN_YEAR = 12\n",
    "def growth_rate(num_of_rates):\n",
    "    data_set = []\n",
    "    \n",
    "    for num_of_rate in num_of_rates:\n",
    "        rate = np.round(np.random.normal(0, 1), 2)\n",
    "        rate = np.abs(rate)\n",
    "        growth = round(np.exp(rate) * MONTHS_IN_YEAR, 2)\n",
    "        data = [rate, growth]\n",
    "        data_set.append(data)\n",
    "        growth_data = pd.DataFrame(data_set, columns=[\"growth factor\", \"growth amount\"])\n",
    "    \n",
    "    return growth_data"
   ]
  },
  {
   "cell_type": "code",
   "execution_count": 6,
   "id": "db751f3d-38fd-423d-b9a4-71b35db03798",
   "metadata": {},
   "outputs": [
    {
     "data": {
      "text/html": [
       "<div>\n",
       "<style scoped>\n",
       "    .dataframe tbody tr th:only-of-type {\n",
       "        vertical-align: middle;\n",
       "    }\n",
       "\n",
       "    .dataframe tbody tr th {\n",
       "        vertical-align: top;\n",
       "    }\n",
       "\n",
       "    .dataframe thead th {\n",
       "        text-align: right;\n",
       "    }\n",
       "</style>\n",
       "<table border=\"1\" class=\"dataframe\">\n",
       "  <thead>\n",
       "    <tr style=\"text-align: right;\">\n",
       "      <th></th>\n",
       "      <th>growth factor</th>\n",
       "      <th>growth amount</th>\n",
       "    </tr>\n",
       "  </thead>\n",
       "  <tbody>\n",
       "    <tr>\n",
       "      <th>0</th>\n",
       "      <td>0.24</td>\n",
       "      <td>15.25</td>\n",
       "    </tr>\n",
       "    <tr>\n",
       "      <th>1</th>\n",
       "      <td>1.08</td>\n",
       "      <td>35.34</td>\n",
       "    </tr>\n",
       "    <tr>\n",
       "      <th>2</th>\n",
       "      <td>0.19</td>\n",
       "      <td>14.51</td>\n",
       "    </tr>\n",
       "    <tr>\n",
       "      <th>3</th>\n",
       "      <td>0.77</td>\n",
       "      <td>25.92</td>\n",
       "    </tr>\n",
       "    <tr>\n",
       "      <th>4</th>\n",
       "      <td>0.25</td>\n",
       "      <td>15.41</td>\n",
       "    </tr>\n",
       "    <tr>\n",
       "      <th>5</th>\n",
       "      <td>0.68</td>\n",
       "      <td>23.69</td>\n",
       "    </tr>\n",
       "    <tr>\n",
       "      <th>6</th>\n",
       "      <td>1.05</td>\n",
       "      <td>34.29</td>\n",
       "    </tr>\n",
       "    <tr>\n",
       "      <th>7</th>\n",
       "      <td>0.45</td>\n",
       "      <td>18.82</td>\n",
       "    </tr>\n",
       "    <tr>\n",
       "      <th>8</th>\n",
       "      <td>1.76</td>\n",
       "      <td>69.75</td>\n",
       "    </tr>\n",
       "    <tr>\n",
       "      <th>9</th>\n",
       "      <td>1.93</td>\n",
       "      <td>82.67</td>\n",
       "    </tr>\n",
       "    <tr>\n",
       "      <th>10</th>\n",
       "      <td>0.50</td>\n",
       "      <td>19.78</td>\n",
       "    </tr>\n",
       "    <tr>\n",
       "      <th>11</th>\n",
       "      <td>0.84</td>\n",
       "      <td>27.80</td>\n",
       "    </tr>\n",
       "    <tr>\n",
       "      <th>12</th>\n",
       "      <td>0.41</td>\n",
       "      <td>18.08</td>\n",
       "    </tr>\n",
       "    <tr>\n",
       "      <th>13</th>\n",
       "      <td>1.13</td>\n",
       "      <td>37.15</td>\n",
       "    </tr>\n",
       "  </tbody>\n",
       "</table>\n",
       "</div>"
      ],
      "text/plain": [
       "    growth factor  growth amount\n",
       "0            0.24          15.25\n",
       "1            1.08          35.34\n",
       "2            0.19          14.51\n",
       "3            0.77          25.92\n",
       "4            0.25          15.41\n",
       "5            0.68          23.69\n",
       "6            1.05          34.29\n",
       "7            0.45          18.82\n",
       "8            1.76          69.75\n",
       "9            1.93          82.67\n",
       "10           0.50          19.78\n",
       "11           0.84          27.80\n",
       "12           0.41          18.08\n",
       "13           1.13          37.15"
      ]
     },
     "execution_count": 6,
     "metadata": {},
     "output_type": "execute_result"
    }
   ],
   "source": [
    "# rate = 0.1\n",
    "num_of_rates = range(1, 15)\n",
    "rate_of_growth = growth_rate(num_of_rates)\n",
    "rate_of_growth"
   ]
  },
  {
   "cell_type": "code",
   "execution_count": 7,
   "id": "9078af6c-0bd0-42ee-bdb9-d4d648735e37",
   "metadata": {},
   "outputs": [
    {
     "data": {
      "text/plain": [
       "<matplotlib.axes._subplots.AxesSubplot at 0x7fd950041690>"
      ]
     },
     "execution_count": 7,
     "metadata": {},
     "output_type": "execute_result"
    },
    {
     "data": {
      "image/png": "[encoded data removed]",
      "text/plain": [
       "<Figure size 432x288 with 1 Axes>"
      ]
     },
     "metadata": {
      "needs_background": "light"
     },
     "output_type": "display_data"
    }
   ],
   "source": [
    "rate_of_growth.plot()"
   ]
  },
  {
   "cell_type": "code",
   "execution_count": null,
   "id": "6335cf14-c62b-4317-9a97-97cbf8a38c03",
   "metadata": {},
   "outputs": [],
   "source": []
  }
 ],
 "metadata": {
  "kernelspec": {
   "display_name": "Python 3",
   "language": "python",
   "name": "python3"
  },
  "language_info": {
   "codemirror_mode": {
    "name": "ipython",
    "version": 3
   },
   "file_extension": ".py",
   "mimetype": "text/x-python",
   "name": "python",
   "nbconvert_exporter": "python",
   "pygments_lexer": "ipython3",
   "version": "3.7.5"
  }
 },
 "nbformat": 4,
 "nbformat_minor": 5
}
