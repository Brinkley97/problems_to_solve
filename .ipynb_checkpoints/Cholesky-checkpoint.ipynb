{
 "cells": [
  {
   "cell_type": "markdown",
   "id": "5a778cbf",
   "metadata": {},
   "source": [
    "1. Refer to lin_alg_for_ml_by_ja_br | ch14"
   ]
  },
  {
   "cell_type": "code",
   "execution_count": 1,
   "id": "ee6ee85a",
   "metadata": {},
   "outputs": [],
   "source": [
    "import numpy as np"
   ]
  },
  {
   "cell_type": "markdown",
   "id": "a1964c6a",
   "metadata": {},
   "source": [
    "# Formula"
   ]
  },
  {
   "cell_type": "code",
   "execution_count": 11,
   "id": "f32f0f08",
   "metadata": {},
   "outputs": [
    {
     "name": "stdout",
     "output_type": "stream",
     "text": [
      "A :  [[1.       0.       0.      ]\n",
      " [0.       1.999396 0.999698]\n",
      " [0.       0.999698 1.499849]]\n"
     ]
    }
   ],
   "source": [
    "L = np.array([\n",
    "             [1, 0, 0],\n",
    "             [0, 1.414, 0],\n",
    "             [0, 0.707, 1]\n",
    "])\n",
    "\n",
    "L_T = np.transpose(L)\n",
    "A = np.dot(L, L_T)\n",
    "print(\"A : \", A)"
   ]
  },
  {
   "cell_type": "code",
   "execution_count": 7,
   "id": "9a69de55",
   "metadata": {},
   "outputs": [
    {
     "name": "stdout",
     "output_type": "stream",
     "text": [
      "A :  [[ 6  0  1]\n",
      " [ 0  2 -1]\n",
      " [ 1 -1  1]]\n"
     ]
    }
   ],
   "source": [
    "U = np.array([\n",
    "             [2, 1, 1],\n",
    "             [0, 1, -1],\n",
    "             [0, 0, 1]\n",
    "])\n",
    "\n",
    "U_T = np.transpose(U)\n",
    "A = np.dot(U, U_T)\n",
    "print(\"A : \", A)"
   ]
  },
  {
   "cell_type": "code",
   "execution_count": null,
   "id": "9b161ac8",
   "metadata": {},
   "outputs": [],
   "source": []
  }
 ],
 "metadata": {
  "kernelspec": {
   "display_name": "Python 3",
   "language": "python",
   "name": "python3"
  },
  "language_info": {
   "codemirror_mode": {
    "name": "ipython",
    "version": 3
   },
   "file_extension": ".py",
   "mimetype": "text/x-python",
   "name": "python",
   "nbconvert_exporter": "python",
   "pygments_lexer": "ipython3",
   "version": "3.7.5"
  }
 },
 "nbformat": 4,
 "nbformat_minor": 5
}
