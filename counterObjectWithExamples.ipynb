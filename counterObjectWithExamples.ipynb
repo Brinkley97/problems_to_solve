{
 "cells": [
  {
   "cell_type": "markdown",
   "id": "ae6e66b6",
   "metadata": {},
   "source": [
    "# Counter\n",
    "1. In relation with Sentiment Analysis 2.5.6 - 2.5.7\n",
    "2. [Link](https://docs.python.org/3/library/collections.html)\n",
    "3. What : a dict {key : value} subclass for counting hashable objects. It is a collection where elements are stored as dictionary keys and their counts are stored as dictionary values ==> {elements : counts}\n",
    "4. Attempt to count words in a few of my undergraduate essays & find the most common words"
   ]
  },
  {
   "cell_type": "code",
   "execution_count": 3,
   "id": "aacbdf06",
   "metadata": {},
   "outputs": [],
   "source": [
    "from collections import Counter"
   ]
  },
  {
   "cell_type": "code",
   "execution_count": 4,
   "id": "3971d939",
   "metadata": {},
   "outputs": [],
   "source": [
    "# create Counter objects\n",
    "first_name_counts = Counter()\n",
    "last_name_counts = Counter()\n",
    "total_counts = Counter()"
   ]
  },
  {
   "cell_type": "code",
   "execution_count": 7,
   "id": "7c247d88",
   "metadata": {},
   "outputs": [],
   "source": [
    "# create lists\n",
    "first_name = [\"Detravious\", \"Daqualashun\", \"Dorian\", \"Jimmy\", \"Berto\", \"Kingston\", \"Richard\", \"Richard\", \"Alexis\", \"Alura\", \"Rem\"]\n",
    "last_name = [\"Brinkley\", \"Brinkley\", \"Roberts\", \"Roberts\", \"Roberts\", \"Johnson\", \"Johnson\", \"Johnson\", \"Johnson\", \"Johnson\", \"Johnson\"]"
   ]
  },
  {
   "cell_type": "code",
   "execution_count": 15,
   "id": "5a50b109",
   "metadata": {},
   "outputs": [
    {
     "name": "stdout",
     "output_type": "stream",
     "text": [
      "11\n"
     ]
    }
   ],
   "source": [
    "first_name_counts = len(first_name)\n",
    "print(first_name_counts)\n",
    "# first_name_counts.most_common()"
   ]
  },
  {
   "cell_type": "code",
   "execution_count": 16,
   "id": "747b3a61",
   "metadata": {},
   "outputs": [
    {
     "name": "stdout",
     "output_type": "stream",
     "text": [
      "11\n"
     ]
    }
   ],
   "source": [
    "last_name_counts = len(last_name)\n",
    "print(last_name_counts)"
   ]
  },
  {
   "cell_type": "code",
   "execution_count": 17,
   "id": "8d7b848b",
   "metadata": {},
   "outputs": [],
   "source": [
    "first_last_dict = {'Detravious' : 'Brinkley'}"
   ]
  },
  {
   "cell_type": "code",
   "execution_count": 18,
   "id": "321ef265",
   "metadata": {},
   "outputs": [
    {
     "name": "stdout",
     "output_type": "stream",
     "text": [
      "1\n"
     ]
    }
   ],
   "source": [
    "print(len(first_last_dict))"
   ]
  },
  {
   "cell_type": "markdown",
   "id": "d424c4da",
   "metadata": {},
   "source": [
    "## Examples from website\n"
   ]
  },
  {
   "cell_type": "code",
   "execution_count": 19,
   "id": "4c4c5701",
   "metadata": {},
   "outputs": [],
   "source": [
    "c = Counter()"
   ]
  },
  {
   "cell_type": "code",
   "execution_count": 27,
   "id": "7a4db1b6",
   "metadata": {},
   "outputs": [
    {
     "name": "stdout",
     "output_type": "stream",
     "text": [
      "Counter({'a': 3, 'l': 2, 'g': 1, 'h': 1, 'd': 1})\n",
      "0\n"
     ]
    }
   ],
   "source": [
    "c = Counter('gallahad')\n",
    "print(c)\n",
    "print(c['m'])"
   ]
  },
  {
   "cell_type": "code",
   "execution_count": 28,
   "id": "8f35b797",
   "metadata": {},
   "outputs": [
    {
     "name": "stdout",
     "output_type": "stream",
     "text": [
      "Counter({'a': 3, 'yessir': 3, 'l': 2, 'g': 1, 'h': 1, 'd': 1})\n"
     ]
    }
   ],
   "source": [
    "c['yessir'] = 3\n",
    "print(c)"
   ]
  },
  {
   "cell_type": "code",
   "execution_count": null,
   "id": "172ceb26",
   "metadata": {},
   "outputs": [],
   "source": []
  }
 ],
 "metadata": {
  "kernelspec": {
   "display_name": "Python 3",
   "language": "python",
   "name": "python3"
  },
  "language_info": {
   "codemirror_mode": {
    "name": "ipython",
    "version": 3
   },
   "file_extension": ".py",
   "mimetype": "text/x-python",
   "name": "python",
   "nbconvert_exporter": "python",
   "pygments_lexer": "ipython3",
   "version": "3.8.8"
  }
 },
 "nbformat": 4,
 "nbformat_minor": 5
}
