{
 "cells": [
  {
   "cell_type": "markdown",
   "id": "a0e869b3-18bd-4c93-a84f-51f1a4decee5",
   "metadata": {},
   "source": [
    "# Contiguous/Max Subarray\n",
    "- CSCI 570 Analysis of Algorithms HW 6 Problem 6\n",
    "\n",
    "The problem. Given values $a_1$, $a_2$, ... , $a_n$ and $b_1$, $b_2$, ... , $b_n$, find a plan of maximum value. (Such a strategy will be called optimal.) Note that your plan can start with either of the machines A or B in minute 1."
   ]
  },
  {
   "cell_type": "code",
   "execution_count": 130,
   "id": "96d4fd86-1cb4-495f-b9cb-67eb950cc87f",
   "metadata": {},
   "outputs": [],
   "source": [
    "def machinesMaxValue(machine_a, machine_b):\n",
    "    \"\"\"\n",
    "    machine_a -- list\n",
    "    machine_b -- list\n",
    "    rtype -- int\n",
    "    \"\"\"\n",
    "\n",
    "    \"\"\"\"\n",
    "    HW Solution\n",
    "    \"\"\"\n",
    "    \n",
    "    \n",
    "    \"\"\"\n",
    "    HW Solution with code\n",
    "    \"\"\"\n",
    "    OPT_A = [0] * len(machine_a)\n",
    "    # print(OPT_A)\n",
    "    \n",
    "    OPT_B = [0] * len(machine_b)\n",
    "    # print(OPT_B)\n",
    "    \n",
    "    OPT_A[0] = machine_a[0]\n",
    "    OPT_B[0] = machine_b[0]\n",
    "    OPT_A[1] = machine_a[1]\n",
    "    OPT_B[1] = machine_b[1]\n",
    "    # print(OPT_A, OPT_B)\n",
    "    # n = 4\n",
    "    for i in range(2, 4):\n",
    "        \n",
    "        OPT_A[i] = machine_a[i] + max(OPT_A[i - 1], OPT_B[i - 2])\n",
    "        # print(\"A:\", machine_a[i], \"+ max of\", OPT_A[i - 1], \"or\", OPT_B[i - 2], \"=\", OPT_A[i])\n",
    "        \n",
    "        OPT_B[i] = machine_b[i] + max(OPT_B[i - 1], OPT_A[i - 2])\n",
    "        # print(\"B:\", machine_b[i], \"+  max of\", OPT_B[i - 1], \"or\", OPT_A[i - 2], \"=\", OPT_B[i])\n",
    "    \n",
    "    return max(OPT_A[i], OPT_B[i])"
   ]
  },
  {
   "cell_type": "code",
   "execution_count": 131,
   "id": "ff4c8216-d36a-4067-ac6d-5573c1e09221",
   "metadata": {},
   "outputs": [
    {
     "data": {
      "text/plain": [
       "50"
      ]
     },
     "execution_count": 131,
     "metadata": {},
     "output_type": "execute_result"
    }
   ],
   "source": [
    "# machine_a = [2, 1, 1, 200]\n",
    "# machine_b = [1, 1, 20, 100]\n",
    "\n",
    "# machine_a = [10, 10, 10, 10]\n",
    "# machine_b = [5, 30, 50, 60]\n",
    "\n",
    "machine_a = [10, 1, 1, 10]\n",
    "machine_b = [5, 1, 20, 20]\n",
    "\n",
    "machinesMaxValue(machine_a, machine_b)"
   ]
  },
  {
   "cell_type": "code",
   "execution_count": null,
   "id": "7f37efe7-fc13-4ca6-8faf-7e939db54f5d",
   "metadata": {},
   "outputs": [],
   "source": []
  },
  {
   "cell_type": "code",
   "execution_count": null,
   "id": "c952dbc5-6aad-4af9-bfb3-df650879af68",
   "metadata": {},
   "outputs": [],
   "source": []
  }
 ],
 "metadata": {
  "kernelspec": {
   "display_name": "Python 3 (ipykernel)",
   "language": "python",
   "name": "python3"
  },
  "language_info": {
   "codemirror_mode": {
    "name": "ipython",
    "version": 3
   },
   "file_extension": ".py",
   "mimetype": "text/x-python",
   "name": "python",
   "nbconvert_exporter": "python",
   "pygments_lexer": "ipython3",
   "version": "3.9.7"
  }
 },
 "nbformat": 4,
 "nbformat_minor": 5
}
