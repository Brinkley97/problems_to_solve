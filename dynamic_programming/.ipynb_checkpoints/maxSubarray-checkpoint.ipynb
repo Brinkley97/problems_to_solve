{
 "cells": [
  {
   "cell_type": "markdown",
   "id": "a0e869b3-18bd-4c93-a84f-51f1a4decee5",
   "metadata": {},
   "source": [
    "# Contiguous/Max Subarray\n",
    "- CSCI 570 Analysis of Algorithms HW 7 Problem 1\n",
    "- See [LeetCode](https://leetcode.com/problems/maximum-subarray/) for explanation of code and output"
   ]
  },
  {
   "cell_type": "code",
   "execution_count": 3,
   "id": "96d4fd86-1cb4-495f-b9cb-67eb950cc87f",
   "metadata": {},
   "outputs": [],
   "source": [
    "def maxSubArray(nums):\n",
    "    \"\"\"\n",
    "    :type nums: List[int]\n",
    "    :rtype: int\n",
    "    \"\"\"\n",
    "        \n",
    "    \"\"\"\"\n",
    "    General leet code solution\n",
    "    \"\"\"\n",
    "#     sum = 0\n",
    "#     largest_sum = 0 \n",
    "\n",
    "#     for i in range(len(nums)):\n",
    "\n",
    "#         \n",
    "#         sum = sum + nums[i]\n",
    "\n",
    "#         if sum < nums[i]:\n",
    "#             # starting point\n",
    "#             sum = nums[i]\n",
    "#         largest_sum = max(largest_sum, sum)\n",
    "#     return largest_sum\n",
    "\n",
    "    \"\"\"\"\n",
    "    HW Solution\n",
    "    \"\"\"\n",
    "    # OPT(i) = \n",
    "    #         OPT(i-1) + nums[i] OR nums[i]\n",
    "    #         max(OPT(i-1) + nums[i], nums[i])\n",
    "    #         max(OPT(i-1), 0) + nums[i]\n",
    "    # OPT(i), array, 23\n",
    "    \n",
    "    \"\"\"\n",
    "    HW Solution with code\n",
    "    \"\"\"\n",
    "    OPT = [0] * len(nums)\n",
    "    OPT[0] = nums[0]\n",
    "\n",
    "    for i in range(1, len(nums)):\n",
    "\n",
    "        OPT[i] = max(OPT[i-1], 0) + nums[i]\n",
    "\n",
    "    return max(OPT)"
   ]
  },
  {
   "cell_type": "code",
   "execution_count": 4,
   "id": "ff4c8216-d36a-4067-ac6d-5573c1e09221",
   "metadata": {},
   "outputs": [
    {
     "data": {
      "text/plain": [
       "6"
      ]
     },
     "execution_count": 4,
     "metadata": {},
     "output_type": "execute_result"
    }
   ],
   "source": [
    "# nums = [5, 4, -1, 7, 8]\n",
    "nums = [-2, 1, -3, 4, -1, 2, 1, -5, 4]\n",
    "maxSubArray(nums)"
   ]
  },
  {
   "cell_type": "code",
   "execution_count": null,
   "id": "8a4bb80d-9662-4fe3-90a7-15175e339dee",
   "metadata": {},
   "outputs": [],
   "source": []
  }
 ],
 "metadata": {
  "kernelspec": {
   "display_name": "Python 3 (ipykernel)",
   "language": "python",
   "name": "python3"
  },
  "language_info": {
   "codemirror_mode": {
    "name": "ipython",
    "version": 3
   },
   "file_extension": ".py",
   "mimetype": "text/x-python",
   "name": "python",
   "nbconvert_exporter": "python",
   "pygments_lexer": "ipython3",
   "version": "3.9.7"
  }
 },
 "nbformat": 4,
 "nbformat_minor": 5
}
