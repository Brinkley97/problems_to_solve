{
 "cells": [
  {
   "cell_type": "code",
   "execution_count": 1,
   "id": "458b0c4d",
   "metadata": {},
   "outputs": [],
   "source": [
    "import numpy as np\n",
    "import torch"
   ]
  },
  {
   "cell_type": "code",
   "execution_count": 48,
   "id": "695426a7",
   "metadata": {},
   "outputs": [
    {
     "name": "stdout",
     "output_type": "stream",
     "text": [
      "a :  tensor([[1, 1, 1],\n",
      "        [2, 2, 2],\n",
      "        [3, 3, 3],\n",
      "        [1, 1, 1]])\n",
      "a.shape :  torch.Size([4, 3])\n",
      "\n",
      "sum_a :  tensor(21)\n",
      "\n",
      "sum_a_1 :  tensor([3, 6, 9, 3])\n",
      "\n",
      "sum_a_1_view :  tensor([[3],\n",
      "        [6],\n",
      "        [9],\n",
      "        [3]])\n"
     ]
    }
   ],
   "source": [
    "a = torch.tensor([[1, 1, 1],\n",
    "                  [2, 2, 2],\n",
    "                  [3, 3, 3],\n",
    "                  [1, 1, 1]\n",
    "                ])\n",
    "print(\"a : \", a)\n",
    "print(\"a.shape : \", a.shape)\n",
    "sum_a = torch.sum(a)\n",
    "print(\"\\nsum_a : \", sum_a)\n",
    "\n",
    "sum_a_1 = torch.sum(a, dim = 1)\n",
    "print(\"\\nsum_a_1 : \", sum_a_1)\n",
    "\n",
    "# .view(4, 1) or .view(-1, 1) same result\n",
    "#     use -1 when I don't know what value to put there\n",
    "sum_a_1_view = torch.sum(a, dim = 1).view(-1, 1)\n",
    "print(\"\\nsum_a_1_view : \", sum_a_1_view)"
   ]
  },
  {
   "cell_type": "markdown",
   "id": "6b9e004c",
   "metadata": {},
   "source": [
    "### Consider writing code to distinguish the above & this\n",
    "set the dim keyword argument appropriately. dim=0 calculates softmax across the rows, so each column sums to 1, while dim=1 calculates across the columns so each row sums to 1"
   ]
  },
  {
   "cell_type": "code",
   "execution_count": 51,
   "id": "ff79d3f9",
   "metadata": {},
   "outputs": [
    {
     "name": "stdout",
     "output_type": "stream",
     "text": [
      "b :  tensor([[1, 1, 1],\n",
      "        [2, 2, 2],\n",
      "        [3, 3, 3],\n",
      "        [4, 4, 4]])\n",
      "b.shape :  torch.Size([4, 3])\n",
      "\n",
      "sum_b :  tensor(30)\n",
      "\n",
      "sum_b_1 :  tensor([10, 10, 10])\n",
      "\n",
      "sum_b_1_view :  tensor([[10],\n",
      "        [10],\n",
      "        [10]])\n"
     ]
    }
   ],
   "source": [
    "b = torch.tensor([[1, 1, 1],\n",
    "                  [2, 2, 2],\n",
    "                  [3, 3, 3],\n",
    "                  [4, 4, 4]\n",
    "                ])\n",
    "print(\"b : \", b)\n",
    "print(\"b.shape : \", b.shape)\n",
    "sum_b = torch.sum(b)\n",
    "print(\"\\nsum_b : \", sum_b)\n",
    "\n",
    "sum_b_1 = torch.sum(b, dim = 0)\n",
    "print(\"\\nsum_b_1 : \", sum_b_1)\n",
    "\n",
    "sum_b_1_view = torch.sum(b, dim = 0).view(-1, 1)\n",
    "print(\"\\nsum_b_1_view : \", sum_b_1_view)"
   ]
  },
  {
   "cell_type": "code",
   "execution_count": null,
   "id": "e2fdd22f",
   "metadata": {},
   "outputs": [],
   "source": []
  }
 ],
 "metadata": {
  "kernelspec": {
   "display_name": "Python 3",
   "language": "python",
   "name": "python3"
  },
  "language_info": {
   "codemirror_mode": {
    "name": "ipython",
    "version": 3
   },
   "file_extension": ".py",
   "mimetype": "text/x-python",
   "name": "python",
   "nbconvert_exporter": "python",
   "pygments_lexer": "ipython3",
   "version": "3.8.8"
  }
 },
 "nbformat": 4,
 "nbformat_minor": 5
}
