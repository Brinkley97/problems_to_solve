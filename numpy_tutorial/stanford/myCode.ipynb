{
 "cells": [
  {
   "cell_type": "code",
   "execution_count": 7,
   "id": "6292a84a",
   "metadata": {},
   "outputs": [
    {
     "name": "stdout",
     "output_type": "stream",
     "text": [
      "True\n",
      "<class 'bool'>\n",
      "<class 'int'>\n",
      "<class 'str'>\n",
      "3\n"
     ]
    }
   ],
   "source": [
    "t = True\n",
    "f = True\n",
    "print(t == f)\n",
    "print(type(t))\n",
    "\n",
    "a = 1\n",
    "print(type(a))\n",
    "\n",
    "b = 'hey'\n",
    "print(type(b))\n",
    "\n",
    "print(len(b))"
   ]
  },
  {
   "cell_type": "code",
   "execution_count": 15,
   "id": "b467ddcb",
   "metadata": {},
   "outputs": [
    {
     "name": "stdout",
     "output_type": "stream",
     "text": [
      "detravious brinkley isn't 34\n"
     ]
    }
   ],
   "source": [
    "# sprintf style string formatting\n",
    "firstName = 'detravious'\n",
    "lastName = 'brinkley'\n",
    "sprintfFormat = '%s %s %s %d' % (firstName, lastName, \"isn't\", 34)\n",
    "print(sprintfFormat)"
   ]
  },
  {
   "cell_type": "code",
   "execution_count": 41,
   "id": "1dd37401",
   "metadata": {},
   "outputs": [
    {
     "name": "stdout",
     "output_type": "stream",
     "text": [
      "prevention is better than cure\n",
      "Prevention is better than cure\n",
      "PREVENTION IS BETTER THAN CURE\n",
      "                                                                                 prevention is better than cure\n",
      "                                         prevention is better than cure                                        \n",
      "preven(xxxxxxxxxxx)ion is be(xxxxxxxxxxx)(xxxxxxxxxxx)er (xxxxxxxxxxx)han cure\n",
      "prevention\n"
     ]
    }
   ],
   "source": [
    "title = \"prevention is better than cure\"\n",
    "print(title)\n",
    "print(title.capitalize())\n",
    "print(title.upper())\n",
    "print(title.rjust(111))\n",
    "print(title.center(111))\n",
    "print(title.replace('t', '(xxxxxxxxxxx)'))"
   ]
  },
  {
   "cell_type": "code",
   "execution_count": null,
   "id": "90e16fc9",
   "metadata": {},
   "outputs": [],
   "source": []
  }
 ],
 "metadata": {
  "kernelspec": {
   "display_name": "Python 3",
   "language": "python",
   "name": "python3"
  },
  "language_info": {
   "codemirror_mode": {
    "name": "ipython",
    "version": 3
   },
   "file_extension": ".py",
   "mimetype": "text/x-python",
   "name": "python",
   "nbconvert_exporter": "python",
   "pygments_lexer": "ipython3",
   "version": "3.8.8"
  }
 },
 "nbformat": 4,
 "nbformat_minor": 5
}
