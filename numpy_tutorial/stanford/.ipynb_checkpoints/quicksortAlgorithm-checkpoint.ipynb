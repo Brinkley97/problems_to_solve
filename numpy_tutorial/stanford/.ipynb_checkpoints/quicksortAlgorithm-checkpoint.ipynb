{
 "cells": [
  {
   "cell_type": "markdown",
   "id": "e741991d",
   "metadata": {},
   "source": [
    "# Quick Sort Algorithm\n",
    "\n",
    "1. this is from [Stanford's Numpy Tutorial](https://cs231n.github.io/python-numpy-tutorial/#jupyter-and-colab-notebooks)\n",
    "2. a divide & conquer algo\n",
    "3. elements as pivots & divide array around pivot\n",
    "4. visualize process of code with [thinkcspy](https://runestone.academy/runestone/books/published/thinkcspy/Functions/functions.html)"
   ]
  },
  {
   "cell_type": "code",
   "execution_count": 41,
   "id": "ecc5a1f1",
   "metadata": {},
   "outputs": [
    {
     "name": "stdout",
     "output_type": "stream",
     "text": [
      "[1, 1, 2, 3, 6, 8, 10]\n"
     ]
    }
   ],
   "source": [
    "# w/ out comments\n",
    "def quicksort(arr) :\n",
    "    \n",
    "    if len(arr) <= 1 :\n",
    "        return arr\n",
    "    pivot = arr[len(arr) // 2]\n",
    "    left = [x for x in arr if x < pivot]\n",
    "    middle = [x for x in arr if x == pivot]\n",
    "    right = [x for x in arr if x > pivot]\n",
    "    return quicksort(left) + middle + quicksort(right)\n",
    "\n",
    "print(quicksort([3, 6, 8, 10, 1, 2, 1]))"
   ]
  },
  {
   "cell_type": "code",
   "execution_count": 43,
   "id": "f7d9d9b6",
   "metadata": {},
   "outputs": [
    {
     "name": "stdout",
     "output_type": "stream",
     "text": [
      "[1, 1, 2, 3, 6, 8, 10]\n"
     ]
    }
   ],
   "source": [
    "# w/ comments & more\n",
    "\n",
    "# quicksort function w/ the arr parameter\n",
    "def quicksort(arr) :\n",
    "    \n",
    "#     array length must be greater than or equal to 1... 1 - infinity\n",
    "    if len(arr) <= 1 :\n",
    "        return arr\n",
    "#     indexing syntax : arrayName[Index #]\n",
    "#         arrayName = arr\n",
    "#         index # = get the lenth of the array & divide by 2 (i.e 10 // 2 = 5)\n",
    "    pivot = arr[len(arr) // 2]\n",
    "#     pivot = 7 // 2 = 3... get the 3rd index which is 10, so pivot is 10\n",
    "#     not too familiar with this syntax, esp. the first x\n",
    "#     left is a for loop, x (which is a #) in array\n",
    "#         if x less than the 10, then add to the left array\n",
    "    left = [x for x in arr if x < pivot]\n",
    "#     if x equals 10, then add to the middle array\n",
    "    middle = [x for x in arr if x == pivot]\n",
    "#     right is a for loop, x in array\n",
    "#         if x greater than 10, then add to the right array\n",
    "    right = [x for x in arr if x > pivot]\n",
    "#     put into an array w/ order : lefts, middles, rights\n",
    "#     apply the quicksort function to L & R... why not middle?\n",
    "    return quicksort(left) + middle + quicksort(right)\n",
    "\n",
    "# in order to print, print(function name([array values]))\n",
    "print(quicksort([3, 6, 8, 10, 1, 2, 1]))"
   ]
  },
  {
   "cell_type": "code",
   "execution_count": 44,
   "id": "ba2f6dbc",
   "metadata": {},
   "outputs": [
    {
     "name": "stdout",
     "output_type": "stream",
     "text": [
      "5\n",
      "2\n",
      "None\n"
     ]
    }
   ],
   "source": [
    "def quicksort2(array) :\n",
    "    if len(array) <= 1 :\n",
    "        return array\n",
    "    pivot = array[len(array) // 2]\n",
    "    print(len(array))\n",
    "    print(pivot)\n",
    "    \n",
    "print(quicksort2([9, 3, 2, 1, 8]))"
   ]
  },
  {
   "cell_type": "code",
   "execution_count": 45,
   "id": "5361eec8",
   "metadata": {},
   "outputs": [
    {
     "name": "stdout",
     "output_type": "stream",
     "text": [
      "[]\n",
      "None\n"
     ]
    }
   ],
   "source": [
    "def quicksort2(array) :\n",
    "    if len(array) <= 1 :\n",
    "        return array\n",
    "    pivot = array[len(array) // 2]\n",
    "#     print(len(array))\n",
    "#     print(pivot)\n",
    "#     create new array called left\n",
    "    left = [x for x in array if x < pivot]\n",
    "#     print values that are less than the pivot & set to left\n",
    "    print(left)\n",
    "    \n",
    "print(quicksort2([9, 3, 1, 2, 8]))"
   ]
  },
  {
   "cell_type": "code",
   "execution_count": 37,
   "id": "41745748",
   "metadata": {},
   "outputs": [
    {
     "name": "stdout",
     "output_type": "stream",
     "text": [
      "[1]\n",
      "[2]\n",
      "None\n"
     ]
    }
   ],
   "source": [
    "def quicksort2(array) :\n",
    "    if len(array) <= 1 :\n",
    "        return array\n",
    "    pivot = array[len(array) // 2]\n",
    "#     print(len(array))\n",
    "#     print(pivot)\n",
    "    left = [x for x in array if x < pivot]\n",
    "    print(left)\n",
    "    middle = [x for x in array if x == pivot]\n",
    "    print(middle)\n",
    "    \n",
    "    \n",
    "print(quicksort2([9, 3, 2, 1, 8]))"
   ]
  },
  {
   "cell_type": "code",
   "execution_count": 46,
   "id": "b64a53f0",
   "metadata": {},
   "outputs": [
    {
     "name": "stdout",
     "output_type": "stream",
     "text": [
      "[1]\n",
      "[2]\n",
      "[9, 3, 8]\n",
      "None\n"
     ]
    }
   ],
   "source": [
    "def quicksort2(array) :\n",
    "    if len(array) <= 1 :\n",
    "        return array\n",
    "    pivot = array[len(array) // 2]\n",
    "#     print(len(array))\n",
    "#     print(pivot)\n",
    "    left = [x for x in array if x < pivot]\n",
    "    print(left)\n",
    "    middle = [x for x in array if x == pivot]\n",
    "    print(middle)\n",
    "#     print values that are greater than the pivot & set to right\n",
    "    right = [x for x in array if x > pivot]\n",
    "    print(right)\n",
    "    \n",
    "print(quicksort2([9, 3, 2, 1, 8]))"
   ]
  },
  {
   "cell_type": "code",
   "execution_count": 47,
   "id": "252c36ba",
   "metadata": {},
   "outputs": [
    {
     "name": "stdout",
     "output_type": "stream",
     "text": [
      "[1]\n",
      "[2]\n",
      "[9, 3, 8]\n",
      "[]\n",
      "[3]\n",
      "[9, 8]\n",
      "[]\n",
      "[8]\n",
      "[9]\n",
      "[1, 2, 3, 8, 9]\n"
     ]
    }
   ],
   "source": [
    "def quicksort2(array) :\n",
    "    if len(array) <= 1 :\n",
    "        return array\n",
    "    pivot = array[len(array) // 2]\n",
    "#     print(len(array))\n",
    "#     print(pivot)\n",
    "    left = [x for x in array if x < pivot]\n",
    "    print(left)\n",
    "    middle = [x for x in array if x == pivot]\n",
    "    print(middle)\n",
    "#     print values that are greater than the pivot & set to right\n",
    "    right = [x for x in array if x > pivot]\n",
    "    print(right)\n",
    "    return quicksort2(left) + quicksort2(middle) + quicksort2(right)\n",
    "    \n",
    "print(quicksort2([9, 3, 2, 1, 8]))"
   ]
  },
  {
   "cell_type": "code",
   "execution_count": 50,
   "id": "70aa40e6",
   "metadata": {},
   "outputs": [
    {
     "name": "stdout",
     "output_type": "stream",
     "text": [
      "[1, 2, 3, 8, 9]\n"
     ]
    }
   ],
   "source": [
    "def quicksort2(array) :\n",
    "    if len(array) <= 1 :\n",
    "        return array\n",
    "    pivot = array[len(array) // 2]\n",
    "#     print(len(array))\n",
    "#     print(pivot)\n",
    "    left = [x for x in array if x < pivot]\n",
    "#     print(left)\n",
    "    middle = [x for x in array if x == pivot]\n",
    "#     print(middle)\n",
    "#     print values that are greater than the pivot & set to right\n",
    "    right = [x for x in array if x > pivot]\n",
    "#     print(right)\n",
    "    return quicksort2(left) + quicksort2(middle) + quicksort2(right)\n",
    "    \n",
    "print(quicksort2([9, 3, 2, 1, 8]))"
   ]
  },
  {
   "cell_type": "code",
   "execution_count": null,
   "id": "b130bb29",
   "metadata": {},
   "outputs": [],
   "source": []
  }
 ],
 "metadata": {
  "kernelspec": {
   "display_name": "Python 3",
   "language": "python",
   "name": "python3"
  },
  "language_info": {
   "codemirror_mode": {
    "name": "ipython",
    "version": 3
   },
   "file_extension": ".py",
   "mimetype": "text/x-python",
   "name": "python",
   "nbconvert_exporter": "python",
   "pygments_lexer": "ipython3",
   "version": "3.7.10"
  }
 },
 "nbformat": 4,
 "nbformat_minor": 5
}
