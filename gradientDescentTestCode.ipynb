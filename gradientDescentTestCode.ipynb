{
 "cells": [
  {
   "cell_type": "markdown",
   "id": "unauthorized-diary",
   "metadata": {},
   "source": [
    "# Testing code\n",
    "* Folder : Development/cv/c_m/d-l-v2-py/i-n-n/"
   ]
  },
  {
   "cell_type": "code",
   "execution_count": 1,
   "id": "original-middle",
   "metadata": {},
   "outputs": [
    {
     "name": "stdout",
     "output_type": "stream",
     "text": [
      "array elements :  [1 2 3 1 3]\n",
      "np.argwhere elements :  [[0]\n",
      " [3]]\n"
     ]
    }
   ],
   "source": [
    "#testing np.argwhere - find each occurance of a specific value\n",
    "import numpy as np\n",
    "x = np.array([1, 2, 3, 1, 3])\n",
    "print(\"array elements : \", x)\n",
    "print(\"np.argwhere elements : \", np.argwhere(x==1))"
   ]
  },
  {
   "cell_type": "code",
   "execution_count": 48,
   "id": "complimentary-recruitment",
   "metadata": {},
   "outputs": [
    {
     "data": {
      "text/plain": [
       "<matplotlib.collections.PathCollection at 0x1346edd68>"
      ]
     },
     "execution_count": 48,
     "metadata": {},
     "output_type": "execute_result"
    },
    {
     "data": {
      "image/png": "[encoded data removed]",
      "text/plain": [
       "<Figure size 432x288 with 1 Axes>"
      ]
     },
     "metadata": {
      "needs_background": "light"
     },
     "output_type": "display_data"
    }
   ],
   "source": [
    "#testing plt.scatter - plot points\n",
    "import matplotlib.pyplot as plt\n",
    "plt.scatter([3], [6], s = 25, color = 'blue', edgecolor = 'k')"
   ]
  },
  {
   "cell_type": "code",
   "execution_count": 49,
   "id": "literary-merit",
   "metadata": {},
   "outputs": [
    {
     "data": {
      "image/png": "[encoded data removed]",
      "text/plain": [
       "<Figure size 432x288 with 1 Axes>"
      ]
     },
     "metadata": {
      "needs_background": "light"
     },
     "output_type": "display_data"
    }
   ],
   "source": [
    "plt.scatter([3,1], [6,3], s = 25, color = 'red', edgecolor = 'k')\n",
    "plt.show()"
   ]
  },
  {
   "cell_type": "code",
   "execution_count": 50,
   "id": "serial-inspector",
   "metadata": {},
   "outputs": [
    {
     "data": {
      "image/png": "[encoded data removed]",
      "text/plain": [
       "<Figure size 432x288 with 1 Axes>"
      ]
     },
     "metadata": {
      "needs_background": "light"
     },
     "output_type": "display_data"
    }
   ],
   "source": [
    "plt.plot([1, 2, 3, 4])\n",
    "plt.show()"
   ]
  },
  {
   "cell_type": "code",
   "execution_count": 71,
   "id": "virgin-relation",
   "metadata": {},
   "outputs": [
    {
     "name": "stdout",
     "output_type": "stream",
     "text": [
      "[4 8] [2 7] [4 2] [8 0]\n"
     ]
    }
   ],
   "source": [
    "# testing array(data[x,y]) of the data array\n",
    "import pandas as pd\n",
    "\n",
    "data = pd.array([4, 0, 2, 7, 8])\n",
    "A = np.array(data[[0,4]])\n",
    "B = np.array(data[[2,3]])\n",
    "C = np.array(data[[0,2]])\n",
    "D = np.array(data[[4,1]])\n",
    "\n",
    "print(A, B, C, D)"
   ]
  },
  {
   "cell_type": "code",
   "execution_count": 4,
   "id": "rotary-display",
   "metadata": {},
   "outputs": [
    {
     "name": "stdout",
     "output_type": "stream",
     "text": [
      "2.718281828459045\n"
     ]
    }
   ],
   "source": [
    "out = np.exp(1)\n",
    "print(out)"
   ]
  },
  {
   "cell_type": "code",
   "execution_count": 9,
   "id": "cleared-literature",
   "metadata": {},
   "outputs": [
    {
     "name": "stdout",
     "output_type": "stream",
     "text": [
      "24\n",
      "24\n"
     ]
    }
   ],
   "source": [
    "mul = np.add(np.multiply(3,4), np.multiply(3,4))\n",
    "print(mul)\n",
    "mul2 = np.multiply(3,4) + np.multiply(3,4)\n",
    "print(mul2)"
   ]
  },
  {
   "cell_type": "code",
   "execution_count": 6,
   "id": "rotary-calibration",
   "metadata": {},
   "outputs": [
    {
     "name": "stdout",
     "output_type": "stream",
     "text": [
      "True\n"
     ]
    }
   ],
   "source": [
    "a = \"day\"\n",
    "testAlpha = a.isalpha()\n",
    "print(testAlpha)"
   ]
  },
  {
   "cell_type": "code",
   "execution_count": 2,
   "id": "proof-grass",
   "metadata": {},
   "outputs": [
    {
     "ename": "NameError",
     "evalue": "name 'isalpha' is not defined",
     "output_type": "error",
     "traceback": [
      "\u001b[0;31m---------------------------------------------------------------------------\u001b[0m",
      "\u001b[0;31mNameError\u001b[0m                                 Traceback (most recent call last)",
      "\u001b[0;32m<ipython-input-2-b0f816af1531>\u001b[0m in \u001b[0;36m<module>\u001b[0;34m\u001b[0m\n\u001b[0;32m----> 1\u001b[0;31m \u001b[0misalpha\u001b[0m\u001b[0;34m(\u001b[0m\u001b[0;34m)\u001b[0m\u001b[0;34m\u001b[0m\u001b[0;34m\u001b[0m\u001b[0m\n\u001b[0m",
      "\u001b[0;31mNameError\u001b[0m: name 'isalpha' is not defined"
     ]
    }
   ],
   "source": []
  },
  {
   "cell_type": "code",
   "execution_count": null,
   "id": "innocent-andorra",
   "metadata": {},
   "outputs": [],
   "source": []
  }
 ],
 "metadata": {
  "kernelspec": {
   "display_name": "Python 3",
   "language": "python",
   "name": "python3"
  },
  "language_info": {
   "codemirror_mode": {
    "name": "ipython",
    "version": 3
   },
   "file_extension": ".py",
   "mimetype": "text/x-python",
   "name": "python",
   "nbconvert_exporter": "python",
   "pygments_lexer": "ipython3",
   "version": "3.7.3"
  }
 },
 "nbformat": 4,
 "nbformat_minor": 5
}
