{
 "cells": [
  {
   "cell_type": "markdown",
   "id": "87904616",
   "metadata": {},
   "source": [
    "1. Refer to lin_alg_for_ml_by_ja_br | ch14"
   ]
  },
  {
   "cell_type": "code",
   "execution_count": 1,
   "id": "80c00b5d",
   "metadata": {},
   "outputs": [],
   "source": [
    "import numpy as np\n",
    "import scipy as sp\n",
    "from scipy.linalg import lu"
   ]
  },
  {
   "cell_type": "markdown",
   "id": "35e28a50",
   "metadata": {},
   "source": [
    "# Formula \n",
    "A = L dot U"
   ]
  },
  {
   "cell_type": "code",
   "execution_count": 2,
   "id": "3e842391",
   "metadata": {},
   "outputs": [
    {
     "name": "stdout",
     "output_type": "stream",
     "text": [
      "D.shape :  (3, 3) \n",
      "D : \n",
      " [[1 2 3]\n",
      " [4 5 6]\n",
      " [7 8 9]]\n",
      "\n",
      "#### FACTOR - DECMOPOSITION ####\n",
      "\n",
      ">> L.shape :  (3, 3) \n",
      ">> L : \n",
      " [[1 0 0]\n",
      " [4 1 0]\n",
      " [7 2 1]] \n",
      "\n",
      ">> U.shape :  (3, 3) \n",
      ">> U : \n",
      " [[ 1  2  3]\n",
      " [ 0 -3 -6]\n",
      " [ 0  0  0]]\n",
      "\n",
      "#### RECONSTRUCT ####\n",
      "\n",
      ">> L_dot_U.shape :  (3, 3) \n",
      ">> L_dot_U : \n",
      " [[1 2 3]\n",
      " [4 5 6]\n",
      " [7 8 9]]\n"
     ]
    }
   ],
   "source": [
    "# 3 x 3 square Matrix\n",
    "D = np.array([\n",
    "             [1, 2, 3],\n",
    "             [4, 5, 6],\n",
    "             [7, 8, 9]\n",
    "             ])\n",
    "print(\"D.shape : \", D.shape, \"\\nD : \\n\", D)\n",
    "\n",
    "print(\"\\n#### FACTOR - DECMOPOSITION ####\")\n",
    "\n",
    "L = np.array([\n",
    "             [1, 0, 0],\n",
    "             [4, 1, 0],\n",
    "             [7, 2, 1]\n",
    "             ])\n",
    "\n",
    "U = np.array([\n",
    "             [1, 2, 3],\n",
    "             [0, -3, -6],\n",
    "             [0, 0, 0]\n",
    "             ])\n",
    "\n",
    "print(\"\\n>> L.shape : \", L.shape, \"\\n>> L : \\n\", L, \n",
    "     \"\\n\\n>> U.shape : \", U.shape, \"\\n>> U : \\n\", U\n",
    "     )\n",
    "\n",
    "\n",
    "print(\"\\n#### RECONSTRUCT ####\")\n",
    "\n",
    "L_dot_U = np.dot(L, U)\n",
    "print(\"\\n>> L_dot_U.shape : \", L_dot_U.shape, \"\\n>> L_dot_U : \\n\", L_dot_U)\n",
    "\n"
   ]
  },
  {
   "cell_type": "markdown",
   "id": "b37be701",
   "metadata": {},
   "source": [
    "# Formula\n",
    "A = P dot dot L dot U"
   ]
  },
  {
   "cell_type": "code",
   "execution_count": 3,
   "id": "5a717aba",
   "metadata": {},
   "outputs": [
    {
     "name": "stdout",
     "output_type": "stream",
     "text": [
      "D.shape :  (3, 3) \n",
      "D : \n",
      " [[1 2 3]\n",
      " [4 5 6]\n",
      " [7 8 9]]\n",
      "\n",
      "#### FACTOR - DECMOP ####\n",
      "\n",
      "P.shape :  (3, 3) \n",
      "P : \n",
      " [[0. 1. 0.]\n",
      " [0. 0. 1.]\n",
      " [1. 0. 0.]] \n",
      "\n",
      "L.shape :  (3, 3) \n",
      "L : \n",
      " [[1.         0.         0.        ]\n",
      " [0.14285714 1.         0.        ]\n",
      " [0.57142857 0.5        1.        ]] \n",
      "\n",
      "U.shape :  (3, 3) \n",
      "U : \n",
      " [[ 7.00000000e+00  8.00000000e+00  9.00000000e+00]\n",
      " [ 0.00000000e+00  8.57142857e-01  1.71428571e+00]\n",
      " [ 0.00000000e+00  0.00000000e+00 -1.58603289e-16]]\n"
     ]
    },
    {
     "ename": "NameError",
     "evalue": "name 'J' is not defined",
     "output_type": "error",
     "traceback": [
      "\u001b[0;31m---------------------------------------------------------------------------\u001b[0m",
      "\u001b[0;31mNameError\u001b[0m                                 Traceback (most recent call last)",
      "\u001b[0;32m<ipython-input-3-2383b9c9e8ed>\u001b[0m in \u001b[0;36m<module>\u001b[0;34m\u001b[0m\n\u001b[1;32m     15\u001b[0m      )\n\u001b[1;32m     16\u001b[0m \u001b[0;34m\u001b[0m\u001b[0m\n\u001b[0;32m---> 17\u001b[0;31m \u001b[0mP_dot_J\u001b[0m \u001b[0;34m=\u001b[0m \u001b[0mnp\u001b[0m\u001b[0;34m.\u001b[0m\u001b[0mdot\u001b[0m\u001b[0;34m(\u001b[0m\u001b[0mP\u001b[0m\u001b[0;34m,\u001b[0m \u001b[0mJ\u001b[0m\u001b[0;34m)\u001b[0m\u001b[0;34m\u001b[0m\u001b[0;34m\u001b[0m\u001b[0m\n\u001b[0m\u001b[1;32m     18\u001b[0m \u001b[0mprint\u001b[0m\u001b[0;34m(\u001b[0m\u001b[0;34m\"\\nP_dot_J.shape : \"\u001b[0m\u001b[0;34m,\u001b[0m \u001b[0mP_dot_J\u001b[0m\u001b[0;34m.\u001b[0m\u001b[0mshape\u001b[0m\u001b[0;34m,\u001b[0m \u001b[0;34m\"\\nP_dot_J : \\n\"\u001b[0m\u001b[0;34m,\u001b[0m \u001b[0mP_dot_J\u001b[0m\u001b[0;34m)\u001b[0m\u001b[0;34m\u001b[0m\u001b[0;34m\u001b[0m\u001b[0m\n\u001b[1;32m     19\u001b[0m \u001b[0mprint\u001b[0m\u001b[0;34m(\u001b[0m\u001b[0;34m\"\\n#### RECONSTRUCT ####\"\u001b[0m\u001b[0;34m)\u001b[0m\u001b[0;34m\u001b[0m\u001b[0;34m\u001b[0m\u001b[0m\n",
      "\u001b[0;31mNameError\u001b[0m: name 'J' is not defined"
     ]
    }
   ],
   "source": [
    "# 3 x 3 square Matrix\n",
    "D = np.array([\n",
    "             [1, 2, 3],\n",
    "             [4, 5, 6],\n",
    "             [7, 8, 9]\n",
    "             ])\n",
    "print(\"D.shape : \", D.shape, \"\\nD : \\n\", D)\n",
    "\n",
    "print(\"\\n#### FACTOR - DECMOP ####\")\n",
    "\n",
    "P, L, U = sp.linalg.lu(D)\n",
    "print(\"\\nP.shape : \", P.shape, \"\\nP : \\n\", P, \n",
    "      \"\\n\\nL.shape : \", L.shape, \"\\nL : \\n\", L, \n",
    "     \"\\n\\nU.shape : \", U.shape, \"\\nU : \\n\", U\n",
    "     )\n",
    "\n",
    "\n",
    "print(\"\\n#### RECONSTRUCT ####\")\n",
    "J = P.dot(L).dot(U)\n",
    "print(\"J.shape : \", J.shape, \"\\nJ : \\n\", J)\n",
    "\n",
    "# another way to write J\n",
    "B = np.dot(np.dot(P, L), U)\n",
    "print(\"B.shape : \", B.shape, \"\\nB : \\n\", B)"
   ]
  },
  {
   "cell_type": "code",
   "execution_count": null,
   "id": "79239292",
   "metadata": {},
   "outputs": [],
   "source": []
  },
  {
   "cell_type": "code",
   "execution_count": null,
   "id": "7b19fb5f",
   "metadata": {},
   "outputs": [],
   "source": []
  }
 ],
 "metadata": {
  "kernelspec": {
   "display_name": "Python 3",
   "language": "python",
   "name": "python3"
  },
  "language_info": {
   "codemirror_mode": {
    "name": "ipython",
    "version": 3
   },
   "file_extension": ".py",
   "mimetype": "text/x-python",
   "name": "python",
   "nbconvert_exporter": "python",
   "pygments_lexer": "ipython3",
   "version": "3.7.5"
  }
 },
 "nbformat": 4,
 "nbformat_minor": 5
}
