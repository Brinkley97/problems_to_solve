{
 "cells": [
  {
   "cell_type": "markdown",
   "id": "2519f20f",
   "metadata": {},
   "source": [
    "# Arrays in Numpy Practice\n",
    "* When : Tue, June 8 2021\n",
    "* Derivative : Udacity DL Nanodegree Course - 2.2.6 Multilayer Perceptrons"
   ]
  },
  {
   "cell_type": "code",
   "execution_count": 1,
   "id": "c10111aa",
   "metadata": {},
   "outputs": [],
   "source": [
    "import numpy as np"
   ]
  },
  {
   "cell_type": "code",
   "execution_count": 10,
   "id": "35468ddc",
   "metadata": {},
   "outputs": [
    {
     "name": "stdout",
     "output_type": "stream",
     "text": [
      "(3,) [ 0.49671415 -0.1382643   0.64768854]\n",
      "\n",
      " (3,) [ 0.49671415 -0.1382643   0.64768854]\n"
     ]
    }
   ],
   "source": [
    "# will not transpose bc it's 1D\n",
    "array1D = np.array([0.49671415, -0.1382643 ,  0.64768854])\n",
    "print(array1D.shape, array1D)\n",
    "t1D = array1D.transpose()\n",
    "print(\"\\n\", t1D.shape, t1D)"
   ]
  },
  {
   "cell_type": "code",
   "execution_count": 14,
   "id": "181a162f",
   "metadata": {},
   "outputs": [
    {
     "name": "stdout",
     "output_type": "stream",
     "text": [
      "(3, 1) [[ 0.49671415]\n",
      " [-0.1382643 ]\n",
      " [ 0.64768854]]\n",
      "\n",
      " (1, 3) [[ 0.49671415 -0.1382643   0.64768854]]\n"
     ]
    }
   ],
   "source": [
    "arrayD = np.array([[ 0.49671415], [-0.1382643 ], [ 0.64768854]])\n",
    "print(arrayD.shape, arrayD)\n",
    "tD = arrayD.transpose()\n",
    "print(\"\\n\", tD.shape, tD)\n",
    "\n",
    "# print(arrayD[: , None])"
   ]
  },
  {
   "cell_type": "code",
   "execution_count": 22,
   "id": "c5f9b14a",
   "metadata": {},
   "outputs": [
    {
     "name": "stdout",
     "output_type": "stream",
     "text": [
      "(2, 3) [[ 0.49671415 -0.1382643   0.64768854]\n",
      " [ 0.49671415 -0.1382643   0.64768854]]\n",
      "\n",
      " (3, 2) [[ 0.49671415  0.49671415]\n",
      " [-0.1382643  -0.1382643 ]\n",
      " [ 0.64768854  0.64768854]]\n"
     ]
    }
   ],
   "source": [
    "array2D = np.array([[0.49671415, -0.1382643, 0.64768854], [0.49671415, -0.1382643, 0.64768854]])\n",
    "print(array2D.shape, array2D)\n",
    "t2D = array2D.transpose()\n",
    "print(\"\\n\", t2D.shape, t2D)"
   ]
  },
  {
   "cell_type": "code",
   "execution_count": null,
   "id": "f868952e",
   "metadata": {},
   "outputs": [],
   "source": []
  }
 ],
 "metadata": {
  "kernelspec": {
   "display_name": "Python 3",
   "language": "python",
   "name": "python3"
  },
  "language_info": {
   "codemirror_mode": {
    "name": "ipython",
    "version": 3
   },
   "file_extension": ".py",
   "mimetype": "text/x-python",
   "name": "python",
   "nbconvert_exporter": "python",
   "pygments_lexer": "ipython3",
   "version": "3.8.8"
  }
 },
 "nbformat": 4,
 "nbformat_minor": 5
}
