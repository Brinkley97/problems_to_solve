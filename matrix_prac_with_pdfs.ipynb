{
 "cells": [
  {
   "cell_type": "markdown",
   "id": "42fdb1b9",
   "metadata": {},
   "source": [
    "1. Practicing matrix arithmetic\n",
    "2. Resouces below\n",
    "3. See OneNote [My Craft --> math --> lin_alg --> matrix arithmetic practice]"
   ]
  },
  {
   "cell_type": "markdown",
   "id": "c3211cb9",
   "metadata": {},
   "source": [
    "# LA 4th ed by Jim Hefferon \n",
    "- P234/244"
   ]
  },
  {
   "cell_type": "code",
   "execution_count": 1,
   "id": "43f0fee8",
   "metadata": {},
   "outputs": [],
   "source": [
    "import numpy as np"
   ]
  },
  {
   "cell_type": "markdown",
   "id": "0a55e130",
   "metadata": {},
   "source": [
    "## 1.8"
   ]
  },
  {
   "cell_type": "code",
   "execution_count": 2,
   "id": "c1a748ba",
   "metadata": {},
   "outputs": [
    {
     "name": "stdout",
     "output_type": "stream",
     "text": [
      "A + B : \n",
      " [[7 0 6]\n",
      " [9 1 6]]\n"
     ]
    }
   ],
   "source": [
    "A = np.array([\n",
    "             [5, -1, 2], \n",
    "             [6, 1, 1]\n",
    "             ])\n",
    "B = np.array([\n",
    "             [2, 1, 4], \n",
    "             [3, 0, 5]\n",
    "             ])\n",
    "print(\"A + B : \\n\", A + B)"
   ]
  },
  {
   "cell_type": "code",
   "execution_count": 8,
   "id": "c90d4695",
   "metadata": {},
   "outputs": [
    {
     "name": "stdout",
     "output_type": "stream",
     "text": [
      "a * B : \n",
      " [[12 -6 -6]\n",
      " [ 6 12 18]]\n"
     ]
    }
   ],
   "source": [
    "B = np.array([\n",
    "             [2, -1, -1], \n",
    "             [1, 2, 3]\n",
    "             ])\n",
    "a = 6\n",
    "print(\"a * B : \\n\", a * B)"
   ]
  },
  {
   "cell_type": "code",
   "execution_count": 7,
   "id": "12e18274",
   "metadata": {},
   "outputs": [
    {
     "name": "stdout",
     "output_type": "stream",
     "text": [
      "A + B : \n",
      " [[4 2]\n",
      " [0 6]]\n"
     ]
    }
   ],
   "source": [
    "A = np.array([\n",
    "             [2, 1], \n",
    "             [0, 3]\n",
    "             ])\n",
    "B = np.array([\n",
    "             [2, 1], \n",
    "             [0, 3]\n",
    "             ])\n",
    "print(\"A + B : \\n\", A + B)"
   ]
  },
  {
   "cell_type": "code",
   "execution_count": 12,
   "id": "3ae9a7ec",
   "metadata": {},
   "outputs": [
    {
     "name": "stdout",
     "output_type": "stream",
     "text": [
      "c * A : \n",
      " [[ 4  8]\n",
      " [12 -4]]\n",
      "d * B : \n",
      " [[ -5  20]\n",
      " [-10   5]]\n",
      "E + F : \n",
      " [[-1 28]\n",
      " [ 2  1]]\n"
     ]
    }
   ],
   "source": [
    "A = np.array([\n",
    "             [1, 2], \n",
    "             [3, -1]\n",
    "             ])\n",
    "B = np.array([\n",
    "             [-1, 4], \n",
    "             [-2, 1]\n",
    "             ])\n",
    "c = 4\n",
    "d = 5\n",
    "\n",
    "E = c * A\n",
    "F = d * B\n",
    "G = E + F\n",
    "\n",
    "print(\"c * A : \\n\", E)\n",
    "print(\"d * B : \\n\", F)\n",
    "print(\"E + F : \\n\", G)"
   ]
  },
  {
   "cell_type": "code",
   "execution_count": 20,
   "id": "cbb307fc",
   "metadata": {},
   "outputs": [
    {
     "name": "stdout",
     "output_type": "stream",
     "text": [
      "c * A : \n",
      " [[6 3]\n",
      " [9 0]]\n",
      "d * B : \n",
      " [[ 2  2  8]\n",
      " [ 6  0 10]]\n"
     ]
    },
    {
     "ename": "ValueError",
     "evalue": "operands could not be broadcast together with shapes (2,2) (2,3) ",
     "output_type": "error",
     "traceback": [
      "\u001b[0;31m---------------------------------------------------------------------------\u001b[0m",
      "\u001b[0;31mValueError\u001b[0m                                Traceback (most recent call last)",
      "\u001b[0;32m<ipython-input-20-93d5e10d8ac7>\u001b[0m in \u001b[0;36m<module>\u001b[0;34m\u001b[0m\n\u001b[1;32m     17\u001b[0m \u001b[0mprint\u001b[0m\u001b[0;34m(\u001b[0m\u001b[0;34m\"c * A : \\n\"\u001b[0m\u001b[0;34m,\u001b[0m \u001b[0mE\u001b[0m\u001b[0;34m)\u001b[0m\u001b[0;34m\u001b[0m\u001b[0;34m\u001b[0m\u001b[0m\n\u001b[1;32m     18\u001b[0m \u001b[0mprint\u001b[0m\u001b[0;34m(\u001b[0m\u001b[0;34m\"d * B : \\n\"\u001b[0m\u001b[0;34m,\u001b[0m \u001b[0mF\u001b[0m\u001b[0;34m)\u001b[0m\u001b[0;34m\u001b[0m\u001b[0;34m\u001b[0m\u001b[0m\n\u001b[0;32m---> 19\u001b[0;31m \u001b[0mG\u001b[0m \u001b[0;34m=\u001b[0m \u001b[0mE\u001b[0m \u001b[0;34m+\u001b[0m \u001b[0mF\u001b[0m\u001b[0;34m\u001b[0m\u001b[0;34m\u001b[0m\u001b[0m\n\u001b[0m\u001b[1;32m     20\u001b[0m \u001b[0mprint\u001b[0m\u001b[0;34m(\u001b[0m\u001b[0;34m\"E + F : \\n\"\u001b[0m\u001b[0;34m,\u001b[0m \u001b[0mG\u001b[0m\u001b[0;34m)\u001b[0m\u001b[0;34m\u001b[0m\u001b[0;34m\u001b[0m\u001b[0m\n",
      "\u001b[0;31mValueError\u001b[0m: operands could not be broadcast together with shapes (2,2) (2,3) "
     ]
    }
   ],
   "source": [
    "A = np.array([\n",
    "             [2, 1], \n",
    "             [3, 0]\n",
    "             ])\n",
    "\n",
    "B = np.array([\n",
    "             [1, 1, 4], \n",
    "             [3, 0, 5]\n",
    "             ])\n",
    "c = 3\n",
    "d = 2\n",
    "\n",
    "E = c * A\n",
    "F = d * B\n",
    "\n",
    "\n",
    "print(\"c * A : \\n\", E)\n",
    "print(\"d * B : \\n\", F)\n",
    "G = E + F\n",
    "print(\"E + F : \\n\", G)"
   ]
  },
  {
   "cell_type": "markdown",
   "id": "3f3b4aae",
   "metadata": {},
   "source": [
    "## 2.14"
   ]
  },
  {
   "cell_type": "code",
   "execution_count": 22,
   "id": "573ceb36",
   "metadata": {},
   "outputs": [
    {
     "name": "stdout",
     "output_type": "stream",
     "text": [
      "A * B : \n",
      " [[  0.   15.5]\n",
      " [  0.  -19. ]]\n"
     ]
    }
   ],
   "source": [
    "A = np.array([\n",
    "             [3, 1], \n",
    "             [-4, 2]\n",
    "             ])\n",
    "B = np.array([\n",
    "             [0, 5], \n",
    "             [0, 0.5]\n",
    "             ])\n",
    "print(\"A * B : \\n\", np.dot(A, B))"
   ]
  },
  {
   "cell_type": "code",
   "execution_count": 23,
   "id": "fbb7568e",
   "metadata": {},
   "outputs": [
    {
     "name": "stdout",
     "output_type": "stream",
     "text": [
      "A * B : \n",
      " [[ 2 -1 -1]\n",
      " [17 -1 -1]]\n"
     ]
    }
   ],
   "source": [
    "A = np.array([\n",
    "             [1, 1, -1], \n",
    "             [4, 0, 3]\n",
    "             ])\n",
    "B = np.array([\n",
    "             [2, -1, -1], \n",
    "             [3, 1, 1],\n",
    "             [3, 1, 1]\n",
    "             ])\n",
    "print(\"A * B : \\n\", np.dot(A, B))"
   ]
  },
  {
   "cell_type": "code",
   "execution_count": 25,
   "id": "89fe583d",
   "metadata": {},
   "outputs": [
    {
     "ename": "ValueError",
     "evalue": "shapes (2,2) and (3,3) not aligned: 2 (dim 1) != 3 (dim 0)",
     "output_type": "error",
     "traceback": [
      "\u001b[0;31m---------------------------------------------------------------------------\u001b[0m",
      "\u001b[0;31mValueError\u001b[0m                                Traceback (most recent call last)",
      "\u001b[0;32m<ipython-input-25-28847b33cee0>\u001b[0m in \u001b[0;36m<module>\u001b[0;34m\u001b[0m\n\u001b[1;32m      8\u001b[0m              \u001b[0;34m[\u001b[0m\u001b[0;36m3\u001b[0m\u001b[0;34m,\u001b[0m \u001b[0;36m8\u001b[0m\u001b[0;34m,\u001b[0m \u001b[0;36m4\u001b[0m\u001b[0;34m]\u001b[0m\u001b[0;34m\u001b[0m\u001b[0;34m\u001b[0m\u001b[0m\n\u001b[1;32m      9\u001b[0m              ])\n\u001b[0;32m---> 10\u001b[0;31m \u001b[0mprint\u001b[0m\u001b[0;34m(\u001b[0m\u001b[0;34m\"A * B : \\n\"\u001b[0m\u001b[0;34m,\u001b[0m \u001b[0mnp\u001b[0m\u001b[0;34m.\u001b[0m\u001b[0mdot\u001b[0m\u001b[0;34m(\u001b[0m\u001b[0mA\u001b[0m\u001b[0;34m,\u001b[0m \u001b[0mB\u001b[0m\u001b[0;34m)\u001b[0m\u001b[0;34m)\u001b[0m\u001b[0;34m\u001b[0m\u001b[0;34m\u001b[0m\u001b[0m\n\u001b[0m",
      "\u001b[0;31mValueError\u001b[0m: shapes (2,2) and (3,3) not aligned: 2 (dim 1) != 3 (dim 0)"
     ]
    }
   ],
   "source": [
    "A = np.array([\n",
    "             [2, -7], \n",
    "             [7, 4]\n",
    "             ])\n",
    "B = np.array([\n",
    "             [1, 0, 5], \n",
    "             [-1, 1, 1],\n",
    "             [3, 8, 4]\n",
    "             ])\n",
    "print(\"A * B : \\n\", np.dot(A, B))"
   ]
  },
  {
   "cell_type": "code",
   "execution_count": 24,
   "id": "c22943ab",
   "metadata": {},
   "outputs": [
    {
     "name": "stdout",
     "output_type": "stream",
     "text": [
      "A * B : \n",
      " [[1 0]\n",
      " [0 1]]\n"
     ]
    }
   ],
   "source": [
    "A = np.array([\n",
    "             [5, 2], \n",
    "             [3, 1]\n",
    "             ])\n",
    "B = np.array([\n",
    "             [-1, 2], \n",
    "             [3, -5]\n",
    "             ])\n",
    "print(\"A * B : \\n\", np.dot(A, B))"
   ]
  },
  {
   "cell_type": "markdown",
   "id": "e16ba9a0",
   "metadata": {},
   "source": [
    "## Ex 3 from LA by Gilbert P210 or so"
   ]
  },
  {
   "cell_type": "code",
   "execution_count": 32,
   "id": "921cbbf7",
   "metadata": {},
   "outputs": [
    {
     "name": "stdout",
     "output_type": "stream",
     "text": [
      "A_t * A : \n",
      " [[3 3]\n",
      " [3 5]]\n",
      "inv :  [[ 0.83333333 -0.5       ]\n",
      " [-0.5         0.5       ]]\n"
     ]
    }
   ],
   "source": [
    "A = np.array([\n",
    "             [1, 0], \n",
    "             [1, 1],\n",
    "             [1, 2]\n",
    "             ])\n",
    "\n",
    "A_t = np.transpose(A)\n",
    "\n",
    "A_t_by_A = np.dot(A_t, A)\n",
    "print(\"A_t * A : \\n\", A_t_by_A)\n",
    "\n",
    "inv = np.linalg.inv(A_t_by_A)\n",
    "print(\"inv : \", inv)"
   ]
  },
  {
   "cell_type": "code",
   "execution_count": 35,
   "id": "e6ba6be7",
   "metadata": {},
   "outputs": [
    {
     "name": "stdout",
     "output_type": "stream",
     "text": [
      "A dot b : \n",
      " [[6]\n",
      " [0]]\n"
     ]
    }
   ],
   "source": [
    "A = np.array([\n",
    "             [1, 0], \n",
    "             [1, 1],\n",
    "             [1, 2]\n",
    "             ])\n",
    "\n",
    "b = np.array([\n",
    "             [6], \n",
    "             [0],\n",
    "             [0]\n",
    "             ])\n",
    "A_t_dot_b = np.dot(np.transpose(A), b)\n",
    "print(\"A dot b : \\n\", A_t_dot_b)"
   ]
  },
  {
   "cell_type": "code",
   "execution_count": 40,
   "id": "9ba2a843",
   "metadata": {},
   "outputs": [
    {
     "name": "stdout",
     "output_type": "stream",
     "text": [
      "x_hat : \n",
      " [[ 5.]\n",
      " [-3.]]\n"
     ]
    }
   ],
   "source": [
    "x_hat = np.dot(inv, A_t_dot_b)\n",
    "print(\"x_hat : \\n\", x_hat)"
   ]
  },
  {
   "cell_type": "code",
   "execution_count": 41,
   "id": "dabb7f4d",
   "metadata": {},
   "outputs": [
    {
     "name": "stdout",
     "output_type": "stream",
     "text": [
      "p : \n",
      " [[ 5.]\n",
      " [ 2.]\n",
      " [-1.]]\n"
     ]
    }
   ],
   "source": [
    "p = np.dot(A, x_hat)\n",
    "print(\"p : \\n\", p)"
   ]
  },
  {
   "cell_type": "code",
   "execution_count": 44,
   "id": "9256e081",
   "metadata": {},
   "outputs": [
    {
     "name": "stdout",
     "output_type": "stream",
     "text": [
      "A_inv : \n",
      " [[ 0.83333333 -0.5       ]\n",
      " [ 0.33333333  0.        ]\n",
      " [-0.16666667  0.5       ]]\n"
     ]
    }
   ],
   "source": [
    "A_inv = np.dot(A, inv)\n",
    "print(\"A_inv : \\n\", A_inv)"
   ]
  },
  {
   "cell_type": "code",
   "execution_count": 47,
   "id": "156c7d5e",
   "metadata": {},
   "outputs": [
    {
     "name": "stdout",
     "output_type": "stream",
     "text": [
      "P : \n",
      " [[ 0.83333333  0.33333333 -0.16666667]\n",
      " [ 0.33333333  0.33333333  0.33333333]\n",
      " [-0.16666667  0.33333333  0.83333333]]\n"
     ]
    }
   ],
   "source": [
    "P = np.dot(A_inv, np.transpose(A))\n",
    "print(\"P : \\n\", P)"
   ]
  },
  {
   "cell_type": "code",
   "execution_count": null,
   "id": "e537ef5c",
   "metadata": {},
   "outputs": [],
   "source": []
  }
 ],
 "metadata": {
  "kernelspec": {
   "display_name": "Python 3",
   "language": "python",
   "name": "python3"
  },
  "language_info": {
   "codemirror_mode": {
    "name": "ipython",
    "version": 3
   },
   "file_extension": ".py",
   "mimetype": "text/x-python",
   "name": "python",
   "nbconvert_exporter": "python",
   "pygments_lexer": "ipython3",
   "version": "3.7.5"
  }
 },
 "nbformat": 4,
 "nbformat_minor": 5
}
